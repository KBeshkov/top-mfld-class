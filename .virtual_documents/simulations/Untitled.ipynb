import numpy as np
import sys,os
sys.path.append(os.getcwd()[:-11]+'src/')
from models import *
from topological_methods import *
import matplotlib.pyplot as plt


#studying the number of low rank regions as a function of the mean of a distribution and the number of output neurons
means = np.linspace(0,5,10)
n_perms = 100
out_dim = 100
in_dim = 2

#eval points
res = 1000
lims = 5
x = lims*2*(np.random.rand(in_dim, res)-0.5)

for m in means:
    for n in range(n_perms):
        rand_model = FeedforwardNetwork(input_size=in_dim,hidden_sizes=[out_dim],mean=m)
        out = rand_model(x)



