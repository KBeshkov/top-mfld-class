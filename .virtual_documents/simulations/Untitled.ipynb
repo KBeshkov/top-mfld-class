import numpy as np
import sys,os
sys.path.append(os.getcwd()[:-11]+'src/')
from models import *
from topological_methods import *
import matplotlib.pyplot as plt
clrs = plt.cm.tab20.colors


from torchvision import datasets, transforms

transform=transforms.Compose([transforms.ToTensor()])

data_train = datasets.MNIST('/Users/kosio/Data/MNIST/', train=True, transform=transform, download=True)
data_test = datasets.MNIST('/Users/kosio/Data/MNIST/', train=False, transform=transform,download=True)



model = FeedforwardNetwork(input_size=data_train.data.shape[1]*data_train.data.shape[2]
                           ,hidden_sizes=[100,50,25], out_layer_sz=10)
pretraining_out = []
out = model(data_test.data)



out_code = [torch.sum(out[i]>0,axis=1) for i in range(len(out))]
region_ranks[m,n,l] = sum(out_code[0]<dim_in).item()>0
