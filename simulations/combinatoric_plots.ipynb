{
 "cells": [
  {
   "cell_type": "code",
   "execution_count": 1,
   "id": "c405f36a-d310-4a06-92ec-e37d50a2566b",
   "metadata": {},
   "outputs": [],
   "source": [
    "import numpy as np\n",
    "import sys,os\n",
    "sys.path.append(os.getcwd()[:-11]+'src/')\n",
    "from models import *\n",
    "from topological_methods import *\n",
    "import matplotlib.pyplot as plt\n",
    "clrs = plt.cm.tab20.colors"
   ]
  },
  {
   "cell_type": "code",
   "execution_count": 2,
   "id": "c2da3d3e-83ba-4fcf-bed0-2a4e3e578f2b",
   "metadata": {},
   "outputs": [],
   "source": [
    "#Plots for normal initialization\n",
    "import math\n",
    "\n",
    "mean = 0\n",
    "std = 0.1\n",
    "n_perms = 100\n",
    "out_dims = [2,5,10,25,50,100]#,500,1000]\n",
    "in_dims = [2,5,10,25,50,100]\n",
    "\n",
    "#eval points\n",
    "res = 100\n",
    "lims = 5\n",
    "\n",
    "    \n",
    "region_ranks = np.zeros([len(in_dims),len(out_dims),n_perms])\n",
    "rank_est = np.zeros([len(in_dims),len(out_dims),n_perms])\n",
    "for m, dim_in in enumerate(in_dims):\n",
    "    for n, dim_out in enumerate(out_dims):\n",
    "        for l in range(n_perms):\n",
    "            x = torch.Tensor(lims*2*(np.random.rand(dim_in, res)-0.5)).T\n",
    "            rand_model = FeedforwardNetwork(input_size=dim_in,hidden_sizes=[dim_out],mean=mean,std=std, init_type='normal')\n",
    "            out = rand_model(x)[0]\n",
    "            out_code = torch.sign(out).unique(dim=0)#[torch.sum(out[i]>0,axis=1) for i in range(len(out))]\n",
    "            region_ranks[m,n,l] = min(rand_model.compute_rank(out_code))\n",
    "#            region_ranks[m,n,l] = sum(out_code[0]<dim_in).item()>0"
   ]
  },
  {
   "cell_type": "code",
   "execution_count": 3,
   "id": "561032a8-daaf-4d94-89bb-23bed7e9fbc6",
   "metadata": {},
   "outputs": [],
   "source": [
    "#Plots for scaling with index(R)\n",
    "n_neurons = 100\n",
    "inpt_dim = 50\n",
    "R_indxs = np.arange(1,n_neurons,4)#[0,2,3,5,10,50,100,500]\n",
    "region_min_code = np.zeros([len(R_indxs),n_perms])\n",
    "for r, r_indx in enumerate(R_indxs):\n",
    "    for l in range(n_perms):\n",
    "        x = torch.Tensor(lims*2*(np.random.rand(inpt_dim, res)-0.5)).T\n",
    "        rand_model = FeedforwardNetwork(input_size=inpt_dim,hidden_sizes=[n_neurons])\n",
    "        R = torch.eye(n_neurons)\n",
    "        rand_inds = np.random.choice(np.arange(0,n_neurons),size=r_indx, replace=False)\n",
    "        R[rand_inds,rand_inds] = -1\n",
    "        rand_model.layers[0].weight = torch.nn.Parameter(rand_model.layers[0].weight)\n",
    "        #with torch.no_grad():\n",
    "            #rand_model.layers[0].weight[:49] = -rand_model.layers[0].weight[:49]\n",
    "        rand_model.layers[0].weight = torch.nn.Parameter(R@rand_model.layers[0].weight)\n",
    "        out = rand_model(x)[0]\n",
    "        out_code = torch.sign(out).unique(dim=0)#[torch.sum(out[i]>0,axis=1) for i in range(len(out))]\n",
    "        region_min_code[r,l] = min(rand_model.compute_rank(out_code))#torch.min(out_code[0]).item()\n",
    "theory_curve = np.concatenate([np.arange(0,int(n_neurons/2)), int(n_neurons/2)-np.arange(0,int(n_neurons/2))])"
   ]
  },
  {
   "cell_type": "code",
   "execution_count": 4,
   "id": "e87e580f-37ec-4029-8f01-0cc575ae7efd",
   "metadata": {},
   "outputs": [],
   "source": [
    "#Plots for Dale-scaling with index(R)\n",
    "R_indxs_dale = np.arange(1,inpt_dim,2)#[0,2,3,5,10,50,100,500]\n",
    "region_min_code_dale = np.zeros([len(R_indxs_dale),n_perms])\n",
    "region_max_code_dale = np.zeros([len(R_indxs_dale),n_perms])\n",
    "for r, r_indx in enumerate(R_indxs_dale):\n",
    "    for l in range(n_perms):\n",
    "        x = torch.Tensor(lims*2*(np.random.rand(inpt_dim, res))).T\n",
    "        rand_model = FeedforwardNetwork(input_size=inpt_dim,hidden_sizes=[n_neurons])\n",
    "        R = torch.eye(inpt_dim)\n",
    "        rand_inds = np.random.choice(np.arange(0,inpt_dim),size=r_indx, replace=False)\n",
    "        R[rand_inds,rand_inds] = -4\n",
    "        rand_model.layers[0].weight = torch.nn.Parameter(rand_model.layers[0].weight)\n",
    "        rand_model.layers[0].weight = torch.nn.Parameter(rand_model.layers[0].weight@R)\n",
    "        out = rand_model(x)[0]\n",
    "        out_code = torch.sign(out).unique(dim=0)#[torch.sum(out[i]>0,axis=1) for i in range(len(out))]\n",
    "        code_rank = rand_model.compute_rank(out_code)\n",
    "        region_min_code_dale[r,l] = min(code_rank)#out_code[0]).item()\n",
    "        region_max_code_dale[r,l] = max(code_rank)\n",
    "#balanced_mode = np.logical_or(np.logical_and(np.mean(region_min_code_dale,1)!=0,np.mean(region_min_code_dale,1)!=n_neurons),\n",
    "#                              np.logical_and(np.mean(region_max_code_dale,1)!=0,np.mean(region_max_code_dale,1)!=n_neurons))\n",
    "region_min_code_dale[region_min_code_dale>inpt_dim] = inpt_dim\n",
    "region_max_code_dale[region_max_code_dale>inpt_dim] = inpt_dim\n",
    "balanced_mode = np.logical_and(np.mean(region_min_code_dale,1)<inpt_dim,(np.mean(region_max_code_dale,1)==inpt_dim))"
   ]
  },
  {
   "cell_type": "code",
   "execution_count": 5,
   "id": "eb34173d-f00c-4930-80b9-58d5d66ad59b",
   "metadata": {},
   "outputs": [],
   "source": [
    "#studying the number of low rank regions as a function of the mean of a distribution and the number of output neurons\n",
    "means = np.linspace(0,0.2,20)\n",
    "in_dim = 10\n",
    "\n",
    "region_ranks_mean = np.zeros([len(out_dims),len(means),n_perms])\n",
    "\n",
    "for d, dim in enumerate(out_dims):\n",
    "    for m, mean in enumerate(means):\n",
    "        for n in range(n_perms):\n",
    "            x = torch.Tensor(lims*2*(np.random.rand(in_dim, res)-0.5)).T\n",
    "            rand_model = FeedforwardNetwork(input_size=in_dim,hidden_sizes=[dim],mean=mean,std=std, init_type='normal')\n",
    "            out = rand_model(x)[0]\n",
    "            out_code = torch.sign(out).unique(dim=0)#[torch.sum(out[i]>0,axis=1) for i in range(len(out))]\n",
    "            region_ranks_mean[d,m,n] = min(rand_model.compute_rank(out_code))#sum(out_code[0]<in_dim).item()>0\n",
    "#min(*[sum(out_code[i]<in_dim).item()>0 for i in range(len(out))])#sum(out_code<in_dim).item()/res#"
   ]
  },
  {
   "cell_type": "code",
   "execution_count": null,
   "id": "d27c9c7d-35f6-45f4-b359-0699e40daa58",
   "metadata": {},
   "outputs": [
    {
     "name": "stdout",
     "output_type": "stream",
     "text": [
      "0\n",
      "1\n",
      "2\n",
      "3\n",
      "4\n"
     ]
    }
   ],
   "source": [
    "depth = 10\n",
    "in_dim_ = 25\n",
    "region_ranks_depth = np.zeros([depth,len(out_dims),n_perms])\n",
    "\n",
    "for m, n_out in enumerate(out_dims):\n",
    "    print(m)\n",
    "    for n in range(n_perms):\n",
    "        ranks_at_points = np.zeros([depth,res])\n",
    "        x = torch.Tensor(lims*2*(np.random.rand(in_dim_, res)-0.5)).T\n",
    "        rand_model = FeedforwardNetwork(input_size=in_dim_,hidden_sizes=[n_out for k in range(depth)],mean=1,std=1,init_type='normal')\n",
    "        for i,x_i in enumerate(x):\n",
    "            ranks_at_points[:,i] = rand_model.compute_rank_at_point(x_i)\n",
    "        region_ranks_depth[:,m,n] = np.min(ranks_at_points,1)"
   ]
  },
  {
   "cell_type": "code",
   "execution_count": null,
   "id": "a19fb704-f192-4d8b-b753-462f7a096bd0",
   "metadata": {},
   "outputs": [],
   "source": [
    "plt.imshow(ranks_at_points)"
   ]
  },
  {
   "cell_type": "code",
   "execution_count": null,
   "id": "e5f4abf7-6f2c-4e00-91bf-1750e7ab61bc",
   "metadata": {},
   "outputs": [],
   "source": [
    "plt.plot(np.mean(region_ranks_depth,2))"
   ]
  },
  {
   "cell_type": "code",
   "execution_count": 45,
   "id": "52203b35-3f78-4d46-bdc5-12cbb20bb256",
   "metadata": {},
   "outputs": [
    {
     "data": {
      "image/png": "[encoded data removed]",
      "text/plain": [
       "<Figure size 638.462x167.143 with 4 Axes>"
      ]
     },
     "metadata": {},
     "output_type": "display_data"
    }
   ],
   "source": [
    "fig_height = 11.7/7\n",
    "fig_width = 8.3/1.3\n",
    "clrs = plt.cm.tab20.colors\n",
    "plt.rcParams[\"font.family\"] = \"Arial\"\n",
    "\n",
    "fig, ax = plt.subplots(1,4,figsize=(fig_width,fig_height))#,dpi=300)\n",
    "\n",
    "for k in range(len(out_dims)):\n",
    "    ax[0].plot(out_dims, np.mean(region_ranks,2)[k],'-o',color=clrs[k],markersize=4)\n",
    "    ax[0].plot(out_dims, in_dims[k]*np.ones(len(out_dims)),'--',color=clrs[k],lw=0.5)\n",
    "    #ax[0].plot([in_dims[k],in_dims[k]], [0,out_dims[k]],'--',color=clrs[k],lw=0.5)\n",
    "    \n",
    "#ax[0].set_xlabel('$n_1$')\n",
    "ax[0].set_xscale('log')\n",
    "ax[0].set_yscale('log')\n",
    "#ax[0].set_ylabel('$P[rank(\\Phi^1)<m]$')\n",
    "\n",
    "for k in range(len(out_dims)):\n",
    "    ax[1].plot(means,np.mean(region_ranks_mean[k],1),'-o',color=clrs[k],markersize=4)\n",
    "ax[1].plot(means,in_dim*np.ones(len(means)),'k')\n",
    "#ax[1].set_yscale('log')\n",
    "\n",
    "\n",
    "ax[2].plot(R_indxs, np.mean(region_min_code,1),'-',color='blue',lw=2.5,alpha=0.7)\n",
    "#ax[2].errorbar(R_indxs, np.mean(region_min_code,1),yerr=1*np.std(region_min_code,1),color='red', fmt='none',markersize=4)\n",
    "ax[2].plot(theory_curve,'k')\n",
    "ax[2].set_ylim(-1,51)\n",
    "#ax[1].set_xlabel('indx($R$)')\n",
    "#ax[0,1].set_xscale('log')\n",
    "#ax[1].set_ylabel('$min(C_{J})$')\n",
    "#ax[0,1].set_yscale('log')\n",
    "#ax[0,0].legend(in_dims)\n",
    "\n",
    "ax[3].plot(R_indxs_dale, np.mean(region_min_code_dale,1),'-',color='blue',lw=2.5,alpha=0.7)\n",
    "ax[3].plot(R_indxs_dale, np.mean(region_max_code_dale,1),'-',color='red',lw=2.5,alpha=0.7)\n",
    "#ax[3].fill_between(R_indxs,\n",
    "#                   np.mean(region_min_code_dale,1)-4*np.std(region_min_code_dale,1),\n",
    "#                   np.mean(region_min_code_dale,1)+4*np.std(region_min_code_dale,1),\n",
    "#                   alpha=0.5,color='red',zorder=100)\n",
    "#ax[3].errorbar(R_indxs, np.mean(region_min_code_dale,1),yerr=1*np.std(region_min_code_dale,1),color='red', fmt='none',markersize=4)\n",
    "ax[3].fill_betweenx(np.arange(-10,60),R_indxs_dale[balanced_mode][0],R_indxs_dale[balanced_mode][-1],alpha=0.2,color='purple')\n",
    "ax[3].set_ylim(-1,51)\n",
    "\n",
    "#ax[2].set_xlabel('$\\mu$')\n",
    "#ax[2].set_ylabel('$P[rank(\\Phi^1)<m]$')\n",
    "\n",
    "#for k in range(len(R_indxs_2)):\n",
    "#    ax[3].plot(np.arange(1,depth+1), np.mean(region_ranks_depth[:,k],1),'-o',color=clrs[k],markersize=4)\n",
    "#ax[3].set_xlabel('depth')\n",
    "fig.tight_layout()\n",
    "fig.savefig(\"/Users/kosio/Figures/MfldClassification/top_destr.png\",dpi=500, transparent=True)"
   ]
  },
  {
   "cell_type": "code",
   "execution_count": null,
   "id": "34b8fefe-9e3b-4381-be59-a26457c67d1b",
   "metadata": {},
   "outputs": [],
   "source": [
    "plt.plot(R_indxs_dale, np.mean(region_min_code_dale,1),'-',color='blue',lw=2.5,alpha=0.7)\n",
    "plt.plot(R_indxs_dale, np.mean(region_max_code_dale,1),'-',color='red',lw=2.5,alpha=0.7)\n",
    "plt.fill_betweenx(np.arange(-10,60),R_indxs_dale[balanced_mode][0],R_indxs_dale[balanced_mode][-1],alpha=0.2,color='purple')\n",
    "int(inpt_dim/4)"
   ]
  },
  {
   "cell_type": "code",
   "execution_count": null,
   "id": "8227a46a-10c3-4e53-ba6a-de298ec4bfb9",
   "metadata": {},
   "outputs": [],
   "source": [
    "plt.plot(np.mean(region_ranks,2)[:,-2])\n",
    "plt.plot(np.mean(region_ranks,2)[:,-1])"
   ]
  },
  {
   "cell_type": "code",
   "execution_count": null,
   "id": "1b401b48-9eab-4094-84e2-f198ef724b4b",
   "metadata": {},
   "outputs": [],
   "source": []
  }
 ],
 "metadata": {
  "kernelspec": {
   "display_name": "Python 3 (ipykernel)",
   "language": "python",
   "name": "python3"
  },
  "language_info": {
   "codemirror_mode": {
    "name": "ipython",
    "version": 3
   },
   "file_extension": ".py",
   "mimetype": "text/x-python",
   "name": "python",
   "nbconvert_exporter": "python",
   "pygments_lexer": "ipython3",
   "version": "3.11.7"
  }
 },
 "nbformat": 4,
 "nbformat_minor": 5
}
