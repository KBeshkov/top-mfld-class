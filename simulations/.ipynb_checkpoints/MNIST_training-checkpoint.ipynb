{
 "cells": [
  {
   "cell_type": "markdown",
   "id": "e6759e2d-d2fb-46df-9ce3-309f0f6c8540",
   "metadata": {},
   "source": [
    "# "
   ]
  },
  {
   "cell_type": "code",
   "execution_count": 1,
   "id": "7eb3f206-fba1-4eb6-a1de-1b297edc1b20",
   "metadata": {},
   "outputs": [],
   "source": [
    "import numpy as np\n",
    "import sys,os\n",
    "sys.path.append(os.getcwd()[:-11]+'src/')\n",
    "from models import *\n",
    "from topological_methods import *\n",
    "import matplotlib.pyplot as plt\n",
    "clrs = plt.cm.tab20.colors"
   ]
  },
  {
   "cell_type": "code",
   "execution_count": 2,
   "id": "cb89f331-96c8-48af-81c5-e4d0923d800d",
   "metadata": {},
   "outputs": [
    {
     "name": "stderr",
     "output_type": "stream",
     "text": [
      "/Users/kosio/miniconda3/envs/general_env/lib/python3.11/site-packages/torchvision/io/image.py:13: UserWarning: Failed to load image Python extension: 'dlopen(/Users/kosio/miniconda3/envs/general_env/lib/python3.11/site-packages/torchvision/image.so, 0x0006): Symbol not found: __ZN3c1017RegisterOperatorsD1Ev\n",
      "  Referenced from: <CFED5F8E-EC3F-36FD-AAA3-2C6C7F8D3DD9> /Users/kosio/miniconda3/envs/general_env/lib/python3.11/site-packages/torchvision/image.so\n",
      "  Expected in:     <632A2621-54FC-39C2-963C-47795485AE07> /Users/kosio/miniconda3/envs/general_env/lib/python3.11/site-packages/torch/lib/libtorch_cpu.dylib'If you don't plan on using image functionality from `torchvision.io`, you can ignore this warning. Otherwise, there might be something wrong with your environment. Did you have `libjpeg` or `libpng` installed before building `torchvision` from source?\n",
      "  warn(\n"
     ]
    }
   ],
   "source": [
    "from torchvision import datasets, transforms\n",
    "\n",
    "transform=transforms.Compose([transforms.ToTensor()])\n",
    "\n",
    "data_train = datasets.MNIST('/Users/kosio/Data/MNIST/', train=True, transform=transform, download=True)\n",
    "data_test = datasets.MNIST('/Users/kosio/Data/MNIST/', train=False, transform=transform,download=True)\n",
    "\n",
    "trainloader = torch.utils.data.DataLoader(data_train, batch_size=64, shuffle=True)\n",
    "testloader = torch.utils.data.DataLoader(data_test, batch_size=64, shuffle=True)\n"
   ]
  },
  {
   "cell_type": "code",
   "execution_count": 3,
   "id": "e23ac3ce-dc1b-4f1c-bde6-c80f16ff7980",
   "metadata": {},
   "outputs": [],
   "source": [
    "#output before training\n",
    "model = FeedforwardNetwork(input_size=data_train.data.shape[1]*data_train.data.shape[2]\n",
    "                           ,hidden_sizes=[1000,500,250,100], out_layer_sz=10, init_type='normal',\n",
    "                          mean = 0, std=0.01)\n",
    "model_pos = FeedforwardNetwork(input_size=data_train.data.shape[1]*data_train.data.shape[2]\n",
    "                           ,hidden_sizes=[1000,500,250,100], out_layer_sz=10, init_type='normal',\n",
    "                          mean = 0.001, std=0.01)\n",
    "#                          mean = 0, std=1)\n",
    "net_rank_ratio = 0.2\n",
    "for layer in model_pos.layers[:-1]:\n",
    "    if isinstance(layer, nn.Linear):\n",
    "        R = torch.eye(layer.weight.shape[0])\n",
    "        rand_inds = np.random.choice(np.arange(0,layer.weight.shape[0]),\n",
    "                                     size=int(net_rank_ratio*layer.weight.shape[0]), replace=False)\n",
    "        R[rand_inds,rand_inds] = -1\n",
    "        layer.weight = torch.nn.Parameter(R@layer.weight)#torch.nn.Parameter(layer.weight+0.0001)#\n",
    "\n",
    "out = model(data_test.data.reshape(len(data_test.data),-1).float())\n",
    "out_code = [torch.sum(out[i]>0,axis=1) for i in range(len(out))]\n",
    "\n",
    "out_pos = model_pos(data_test.data.reshape(len(data_test.data),-1).float())\n",
    "out_code_pos = [torch.sum(out_pos[i]>0,axis=1) for i in range(len(out_pos))]\n"
   ]
  },
  {
   "cell_type": "code",
   "execution_count": 4,
   "id": "4e75d230-e007-4eed-a021-df7018964d7a",
   "metadata": {},
   "outputs": [
    {
     "data": {
      "image/png": "[encoded data removed]",
      "text/plain": [
       "<Figure size 640x480 with 1 Axes>"
      ]
     },
     "metadata": {},
     "output_type": "display_data"
    }
   ],
   "source": [
    "#show the PCA spectrum of the MNIST data\n",
    "from sklearn.decomposition import PCA\n",
    "reduced_MNIST = PCA().fit(data_test.data.reshape(len(data_test.data),-1).float())\n",
    "reduced_output = PCA().fit(out[-1].detach().numpy())\n",
    "reduced_output_pos = PCA().fit(out_pos[-2].detach().numpy())\n",
    "\n",
    "plt.plot(np.arange(1,785),reduced_MNIST.explained_variance_ratio_,'k-o')\n",
    "plt.plot(np.arange(1,len(reduced_output.explained_variance_ratio_)+1),reduced_output.explained_variance_ratio_,'r-o')\n",
    "plt.plot(np.arange(1,len(reduced_output_pos.explained_variance_ratio_)+1),reduced_output_pos.explained_variance_ratio_,'g-o')\n",
    "plt.xscale('log')"
   ]
  },
  {
   "cell_type": "code",
   "execution_count": 29,
   "id": "e318604a-2ffb-48cf-92eb-f33f6d21aeb7",
   "metadata": {},
   "outputs": [],
   "source": [
    "#Train\n",
    "import torch.optim as optim\n",
    "from tqdm import tqdm\n",
    "\n",
    "criterion = nn.CrossEntropyLoss()\n",
    "optimizer = optim.Adam(model.parameters(), lr=0.001)\n",
    "optimizer_pos = optim.Adam(model_pos.parameters(), lr=0.001)\n",
    "\n",
    "# Define the training function\n",
    "def train_model(model, trainloader, criterion, optimizer, num_epochs=20):\n",
    "    model.train()  # Set the model to training mode\n",
    "    for epoch in tqdm(range((num_epochs))):\n",
    "        running_loss = 0.0\n",
    "        for i, data in enumerate(trainloader, 0):\n",
    "            inputs, labels = data\n",
    "            optimizer.zero_grad()\n",
    "\n",
    "            outputs = model(inputs.reshape(len(inputs),-1))[-1]\n",
    "            loss = criterion(outputs, labels)\n",
    "            loss.backward()\n",
    "            optimizer.step()\n",
    "\n",
    "            running_loss += loss.item()\n",
    "            #if i % 500 == 99:\n",
    "            #    print('[%d, %5d] loss: %.3f' % (epoch + 1, i + 1, running_loss / 500))\n",
    "            #    running_loss = 0.0\n",
    "\n",
    "# Train the model\n",
    "train_model(model, trainloader, criterion, optimizer)\n",
    "train_model(model_pos, trainloader, criterion, optimizer_pos)\n"
   ]
  },
  {
   "cell_type": "code",
   "execution_count": 10,
   "id": "71dbb340-f50c-4464-8dbf-1f65ee37c626",
   "metadata": {},
   "outputs": [],
   "source": [
    "#output after training\n",
    "out_post = model(data_test.data.reshape(len(data_test.data),-1).float())\n",
    "out_code_post = [torch.sum(out_post[i]>0,axis=1) for i in range(len(out_post))]\n",
    "\n",
    "out_post_pos = model_pos(data_test.data.reshape(len(data_test.data),-1).float())\n",
    "out_code_post_pos = [torch.sum(out_post_pos[i]>0,axis=1) for i in range(len(out_post_pos))]"
   ]
  },
  {
   "cell_type": "code",
   "execution_count": 11,
   "id": "686f3cee-7d6f-4b63-8d13-04db13a8353b",
   "metadata": {},
   "outputs": [
    {
     "name": "stdout",
     "output_type": "stream",
     "text": [
      "0.9685999751091003\n",
      "0.9807999730110168\n"
     ]
    }
   ],
   "source": [
    "print((sum(torch.argmax(out_post[-1],1)==data_test.targets)/len(data_test.targets)).item())\n",
    "print((sum(torch.argmax(out_post_pos[-1],1)==data_test.targets)/len(data_test.targets)).item())"
   ]
  },
  {
   "cell_type": "code",
   "execution_count": 13,
   "id": "9d1de33d-3376-4db8-bed8-299406b5cb9d",
   "metadata": {},
   "outputs": [
    {
     "data": {
      "image/png": "[encoded data removed]",
      "text/plain": [
       "<Figure size 640x480 with 1 Axes>"
      ]
     },
     "metadata": {},
     "output_type": "display_data"
    }
   ],
   "source": [
    "[plt.hist(out_code[i],np.linspace(torch.min(out_code[i]),torch.max(out_code[i]),\n",
    "                                  torch.max(out_code[i])-torch.min(out_code[i])),\n",
    "                                  color='red',alpha = i*0.2+0.2,density=True) for i in range(len(out_code)-1)]\n",
    "_ = [plt.hist(out_code_post[i],np.linspace(torch.min(out_code_post[i]),torch.max(out_code_post[i]),\n",
    "                                  torch.max(out_code_post[i])-torch.min(out_code_post[i])),\n",
    "                                  color='blue',alpha = i*0.2+0.2,density=True) for i in range(len(out_code_post)-1)]\n"
   ]
  },
  {
   "cell_type": "code",
   "execution_count": 14,
   "id": "702a3b85-2657-46e3-8a47-e49cdc407a6b",
   "metadata": {},
   "outputs": [
    {
     "data": {
      "image/png": "[encoded data removed]",
      "text/plain": [
       "<Figure size 640x480 with 1 Axes>"
      ]
     },
     "metadata": {},
     "output_type": "display_data"
    }
   ],
   "source": [
    "[plt.hist(out_code_pos[i],np.linspace(torch.min(out_code_pos[i]),torch.max(out_code_pos[i]),\n",
    "                                      torch.max(out_code_pos[i])-torch.min(out_code_pos[i])),\n",
    "                                      color='purple',alpha = i*0.2+0.4,density=True) for i in range(len(out_code_pos)-1)]\n",
    "_ = [plt.hist(out_code_post_pos[i],np.linspace(torch.min(out_code_post_pos[i]),torch.max(out_code_post_pos[i]),\n",
    "                                      torch.max(out_code_post_pos[i])-torch.min(out_code_post_pos[i])),\n",
    "                                      color='green',alpha = i*0.2+0.2,density=True) for i in range(len(out_code_post_pos)-1)]\n"
   ]
  },
  {
   "cell_type": "code",
   "execution_count": null,
   "id": "fd9df384-3fc7-493b-b609-33c7a63e4e4a",
   "metadata": {},
   "outputs": [
    {
     "name": "stderr",
     "output_type": "stream",
     "text": [
      "  0%|                                                       | 0/5 [00:00<?, ?it/s]"
     ]
    }
   ],
   "source": [
    "#Create phase diagram of performance as a function of weight bias and weight rank\n",
    "n_repetitions = 10\n",
    "means = [0,*np.logspace(-2.5,0,14)]\n",
    "n_models = len(means)\n",
    "accuracy = np.zeros([n_models,n_repetitions])\n",
    "ranks = np.zeros([n_models,n_repetitions])\n",
    "\n",
    "for n in range(n_repetitions):\n",
    "    for m in range(len(means)):\n",
    "        mod = FeedforwardNetwork(input_size=data_train.data.shape[1]*data_train.data.shape[2]\n",
    "                           ,hidden_sizes=[800,400,200,100], out_layer_sz=10, init_type='normal',\n",
    "                          mean = means[m], std=0.01)\n",
    "        optimizer = optim.Adam(mod.parameters(), lr=0.001)\n",
    "        train_model(mod, trainloader, criterion, optimizer)\n",
    "        model_out = mod(data_test.data.reshape(len(data_test.data),-1).float())\n",
    "        accuracy[m,n] = (sum(torch.argmax(model_out[-1],1)==data_test.targets)/len(data_test.targets)).item()\n",
    "        ranks[m,n] = min([min(torch.sum(model_out[i]>0,axis=1)).item() for i in range(len(model_out)-1)])"
   ]
  },
  {
   "cell_type": "code",
   "execution_count": null,
   "id": "d9a0e3fe-2f39-46d2-b930-4237893fcc7b",
   "metadata": {},
   "outputs": [],
   "source": [
    "plt.plot(means, np.mean(accuracy,1),'-o')\n",
    "plt.xscale('log')"
   ]
  },
  {
   "cell_type": "code",
   "execution_count": null,
   "id": "40745c9d-d930-4ac5-945d-b20096a76757",
   "metadata": {},
   "outputs": [],
   "source": [
    "plt.plot(ranks.flatten(),accuracy.flatten(),'.')\n",
    "plt.xscale('log')"
   ]
  },
  {
   "cell_type": "code",
   "execution_count": null,
   "id": "aeadae46-399f-4fd3-b997-3565737642db",
   "metadata": {},
   "outputs": [],
   "source": [
    "plt.imshow(accuracy)\n",
    "plt.colorbar()"
   ]
  },
  {
   "cell_type": "code",
   "execution_count": null,
   "id": "0bae2141-140b-436c-8382-ae713468a7c5",
   "metadata": {},
   "outputs": [],
   "source": []
  }
 ],
 "metadata": {
  "kernelspec": {
   "display_name": "Python 3 (ipykernel)",
   "language": "python",
   "name": "python3"
  },
  "language_info": {
   "codemirror_mode": {
    "name": "ipython",
    "version": 3
   },
   "file_extension": ".py",
   "mimetype": "text/x-python",
   "name": "python",
   "nbconvert_exporter": "python",
   "pygments_lexer": "ipython3",
   "version": "3.11.7"
  }
 },
 "nbformat": 4,
 "nbformat_minor": 5
}
