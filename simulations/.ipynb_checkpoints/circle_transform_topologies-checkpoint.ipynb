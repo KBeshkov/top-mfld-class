{
 "cells": [
  {
   "cell_type": "code",
   "execution_count": 1,
   "id": "25db21d0-dfd0-4d7b-a421-9dff72f56468",
   "metadata": {},
   "outputs": [],
   "source": [
    "import numpy as np\n",
    "import matplotlib.pyplot as plt"
   ]
  },
  {
   "cell_type": "code",
   "execution_count": 2,
   "id": "88f1b314-f673-435c-931e-597ea05b2931",
   "metadata": {},
   "outputs": [],
   "source": [
    "def circle_mid_funct(w_11, w_12, w_21, w_22, b_1, b_2):\n",
    "    return np.sqrt((b_2**2-2*b_1*b_2*w_22/w_12 + (b_1**2)*(w_22**2)/(w_12**2))/(w_22*w_11/w_12 - w_21)**2 + \n",
    "                   (b_2**2-2*b_1*b_2*w_21/w_11 + (b_1**2)*(w_21**2)/(w_11**2))/(w_21*w_12/w_11 - w_22)**2)\n",
    "\n",
    "def circle_intersect_funct(w_11, w_12, b):\n",
    "    D = np.sqrt(((b**2)*(w_11**2)/(w_12**2))*(1-1/(w_11**2))-(b**2-w_11**2)/(w_12**2)+1)\n",
    "    return np.array([-((b*w_11/w_12)+D)/(1+(w_11**2)/(w_12**2)),-((b*w_11/w_12)-D)/(1+(w_11**2)/(w_12**2))])"
   ]
  },
  {
   "cell_type": "code",
   "execution_count": 3,
   "id": "49ac6a7e-2ec7-443b-bd3d-93ba847e058a",
   "metadata": {},
   "outputs": [
    {
     "name": "stderr",
     "output_type": "stream",
     "text": [
      "/var/folders/w5/y_v42n094wqf5j0y62675qx80000gn/T/ipykernel_28570/1241659727.py:6: RuntimeWarning: invalid value encountered in sqrt\n",
      "  D = np.sqrt(((b**2)*(w_11**2)/(w_12**2))*(1-1/(w_11**2))-(b**2-w_11**2)/(w_12**2)+1)\n"
     ]
    }
   ],
   "source": [
    "npoints = 5000000\n",
    "circle = np.vstack([np.cos(np.linspace(-np.pi,np.pi,100)), np.sin(np.linspace(-np.pi,np.pi,100))])\n",
    "rand_params = 2*(np.random.rand(npoints,6)-0.5)\n",
    "f = circle_mid_funct(*rand_params.T)\n",
    "#f[f<1] = 0\n",
    "#f[f>=1] = 1\n",
    "\n",
    "nrn1_intersect = np.count_nonzero(~np.isnan(circle_intersect_funct(rand_params[:,0], rand_params[:,1], rand_params[:,4])),axis=0)\n",
    "nrn2_intersect = np.count_nonzero(~np.isnan(circle_intersect_funct(rand_params[:,2], rand_params[:,3], rand_params[:,5])),axis=0)\n",
    "\n",
    "phase_states = np.zeros(npoints) #zero intersection regions\n",
    "phase_states[np.logical_or(np.logical_and(nrn1_intersect==0,nrn2_intersect>0),\n",
    "                           np.logical_and(nrn1_intersect>0,nrn2_intersect==0))] = 1 #one intersection\n",
    "phase_states[np.logical_and(f>=1,np.logical_and(nrn1_intersect>0,nrn2_intersect>0))] = 2 #two intersections and outside of middle\n",
    "phase_states[np.logical_and(f<1,np.logical_and(nrn1_intersect>0,nrn2_intersect>0))] = 3 #two intersections and inside middle\n"
   ]
  },
  {
   "cell_type": "code",
   "execution_count": 4,
   "id": "0f31c071-f17a-44c0-9d51-08d76e7ce3e5",
   "metadata": {},
   "outputs": [],
   "source": [
    "nrn1_out = rand_params[:,0][:,None]*circle[0] + rand_params[:,1][:,None]*circle[1] + rand_params[:,4][:,None]\n",
    "nrn2_out = rand_params[:,2][:,None]*circle[0] + rand_params[:,3][:,None]*circle[1] + rand_params[:,5][:,None]\n",
    "\n",
    "circle_condition = np.any(np.logical_and(nrn1_out>0, nrn2_out>0),axis=1)"
   ]
  },
  {
   "cell_type": "code",
   "execution_count": null,
   "id": "420a838d-8a28-4fac-b9d4-5f92aa6e331a",
   "metadata": {},
   "outputs": [],
   "source": [
    "from scipy.stats import binned_statistic_2d\n",
    "from matplotlib.colors import ListedColormap\n",
    "colors = ['#ea618c', '#eac561', '#61b4ea', '#61ea63']\n",
    "\n",
    "# Create a ListedColormap with the specified colors\n",
    "custom_cmap = ListedColormap(colors)\n",
    "\n",
    "param_names = ['$w_{11}$','$w_{12}$','$w_{21}$','$w_{22}$','$b_1$','$b_2$']\n",
    "fig, axs = plt.subplots(6,6,figsize=(8,8))\n",
    "count = 0\n",
    "for i in range(len(rand_params.T)):\n",
    "    for j in range(len(rand_params.T)):\n",
    "        if i > j:\n",
    "            stat, xedges, yedges, _ = binned_statistic_2d(rand_params[:,i], rand_params[:,j], bins=40, values=phase_states,statistic=np.nanmean)\n",
    "            xy_mesh = np.meshgrid(xedges,yedges)\n",
    "            axs[i,j].pcolormesh(xy_mesh[0],xy_mesh[1],stat,cmap=custom_cmap,vmax=3,vmin=0)#,shading='gouraud')\n",
    "            #axs[i,j].axis('off')\n",
    "            axs[i,j].set_xticks([])\n",
    "            axs[i,j].set_yticks([])\n",
    "            axs[i,j].set_aspect('equal')\n",
    "            axs[i,j].set_xlabel(param_names[i])\n",
    "            axs[i,j].set_ylabel(param_names[j])\n",
    "        elif i < j:\n",
    "            stat, xedges, yedges, _ = binned_statistic_2d(rand_params[:,i], rand_params[:,j], bins=40, values=circle_condition.astype(int),statistic=np.nanmean)\n",
    "            xy_mesh = np.meshgrid(xedges,yedges)\n",
    "            axs[i,j].pcolormesh(xy_mesh[0],xy_mesh[1],stat,cmap='seismic',vmax=1,vmin=0)#,shading='gouraud')\n",
    "            #axs[i,j].axis('off')\n",
    "            axs[i,j].set_xticks([])\n",
    "            axs[i,j].set_yticks([])\n",
    "            axs[i,j].set_aspect('equal')\n",
    "            axs[i,j].set_xlabel(param_names[i])\n",
    "            axs[i,j].set_ylabel(param_names[j])\n",
    "        else:\n",
    "            axs[i,j].axis('off')\n",
    "fig.tight_layout()\n",
    "fig.savefig(\"/Users/kosio/Figures/MfldClassification/circle_transforms.png\",dpi=500,transparent=True)"
   ]
  },
  {
   "cell_type": "code",
   "execution_count": null,
   "id": "071ae7e1-8eab-477e-95b7-06c679d68089",
   "metadata": {},
   "outputs": [],
   "source": []
  }
 ],
 "metadata": {
  "kernelspec": {
   "display_name": "Python 3 (ipykernel)",
   "language": "python",
   "name": "python3"
  },
  "language_info": {
   "codemirror_mode": {
    "name": "ipython",
    "version": 3
   },
   "file_extension": ".py",
   "mimetype": "text/x-python",
   "name": "python",
   "nbconvert_exporter": "python",
   "pygments_lexer": "ipython3",
   "version": "3.11.7"
  }
 },
 "nbformat": 4,
 "nbformat_minor": 5
}
