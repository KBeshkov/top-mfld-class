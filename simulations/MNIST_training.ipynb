{
 "cells": [
  {
   "cell_type": "markdown",
   "id": "e6759e2d-d2fb-46df-9ce3-309f0f6c8540",
   "metadata": {},
   "source": [
    "# "
   ]
  },
  {
   "cell_type": "code",
   "execution_count": 1,
   "id": "7eb3f206-fba1-4eb6-a1de-1b297edc1b20",
   "metadata": {},
   "outputs": [],
   "source": [
    "import numpy as np\n",
    "import sys,os\n",
    "sys.path.append(os.getcwd()[:-11]+'src/')\n",
    "from models import *\n",
    "from topological_methods import *\n",
    "import matplotlib.pyplot as plt\n",
    "clrs = plt.cm.tab20.colors"
   ]
  },
  {
   "cell_type": "code",
   "execution_count": 2,
   "id": "cb89f331-96c8-48af-81c5-e4d0923d800d",
   "metadata": {},
   "outputs": [
    {
     "name": "stderr",
     "output_type": "stream",
     "text": [
      "/Users/kosio/miniconda3/envs/general_env/lib/python3.11/site-packages/torchvision/io/image.py:13: UserWarning: Failed to load image Python extension: 'dlopen(/Users/kosio/miniconda3/envs/general_env/lib/python3.11/site-packages/torchvision/image.so, 0x0006): Symbol not found: __ZN3c1017RegisterOperatorsD1Ev\n",
      "  Referenced from: <CFED5F8E-EC3F-36FD-AAA3-2C6C7F8D3DD9> /Users/kosio/miniconda3/envs/general_env/lib/python3.11/site-packages/torchvision/image.so\n",
      "  Expected in:     <632A2621-54FC-39C2-963C-47795485AE07> /Users/kosio/miniconda3/envs/general_env/lib/python3.11/site-packages/torch/lib/libtorch_cpu.dylib'If you don't plan on using image functionality from `torchvision.io`, you can ignore this warning. Otherwise, there might be something wrong with your environment. Did you have `libjpeg` or `libpng` installed before building `torchvision` from source?\n",
      "  warn(\n"
     ]
    }
   ],
   "source": [
    "from torchvision import datasets, transforms\n",
    "\n",
    "transform=transforms.Compose([transforms.ToTensor()])\n",
    "\n",
    "data_train = datasets.MNIST('/Users/kosio/Data/MNIST/', train=True, transform=transform, download=True)\n",
    "data_test = datasets.MNIST('/Users/kosio/Data/MNIST/', train=False, transform=transform,download=True)\n",
    "\n",
    "trainloader = torch.utils.data.DataLoader(data_train, batch_size=64, shuffle=True)\n",
    "testloader = torch.utils.data.DataLoader(data_test, batch_size=64, shuffle=True)\n"
   ]
  },
  {
   "cell_type": "code",
   "execution_count": 11,
   "id": "e23ac3ce-dc1b-4f1c-bde6-c80f16ff7980",
   "metadata": {},
   "outputs": [
    {
     "name": "stdout",
     "output_type": "stream",
     "text": [
      "0\n",
      "100\n",
      "200\n",
      "300\n",
      "400\n",
      "500\n",
      "600\n",
      "700\n",
      "800\n",
      "900\n",
      "1000\n"
     ]
    },
    {
     "ename": "KeyboardInterrupt",
     "evalue": "",
     "output_type": "error",
     "traceback": [
      "\u001b[0;31m---------------------------------------------------------------------------\u001b[0m",
      "\u001b[0;31mKeyboardInterrupt\u001b[0m                         Traceback (most recent call last)",
      "Cell \u001b[0;32mIn[11], line 13\u001b[0m\n\u001b[1;32m     11\u001b[0m out_code \u001b[38;5;241m=\u001b[39m np\u001b[38;5;241m.\u001b[39mzeros([\u001b[38;5;28mlen\u001b[39m(test_dat),\u001b[38;5;28mlen\u001b[39m(layer_sizes)])\n\u001b[1;32m     12\u001b[0m \u001b[38;5;28;01mfor\u001b[39;00m i, x_i \u001b[38;5;129;01min\u001b[39;00m \u001b[38;5;28menumerate\u001b[39m(test_dat):\n\u001b[0;32m---> 13\u001b[0m     out_code[i,:] \u001b[38;5;241m=\u001b[39m model\u001b[38;5;241m.\u001b[39mcompute_rank_at_point(x_i)[:\u001b[38;5;241m-\u001b[39m\u001b[38;5;241m1\u001b[39m]\n\u001b[1;32m     14\u001b[0m     \u001b[38;5;28;01mif\u001b[39;00m i\u001b[38;5;241m%\u001b[39m\u001b[38;5;241m100\u001b[39m\u001b[38;5;241m==\u001b[39m\u001b[38;5;241m0\u001b[39m:\n\u001b[1;32m     15\u001b[0m         \u001b[38;5;28mprint\u001b[39m(i)\n",
      "File \u001b[0;32m~/Repos/top-mfld-class/src/models.py:79\u001b[0m, in \u001b[0;36mFeedforwardNetwork.compute_rank_at_point\u001b[0;34m(self, x)\u001b[0m\n\u001b[1;32m     77\u001b[0m         \u001b[38;5;28;01melse\u001b[39;00m:\n\u001b[1;32m     78\u001b[0m             out_mat \u001b[38;5;241m=\u001b[39m Q\u001b[38;5;129m@layer\u001b[39m\u001b[38;5;241m.\u001b[39mweight\u001b[38;5;129m@out_mat\u001b[39m\n\u001b[0;32m---> 79\u001b[0m         fin_rank \u001b[38;5;241m=\u001b[39m torch\u001b[38;5;241m.\u001b[39mlinalg\u001b[38;5;241m.\u001b[39mmatrix_rank(out_mat)\n\u001b[1;32m     80\u001b[0m         ranks\u001b[38;5;241m.\u001b[39mappend(fin_rank)\n\u001b[1;32m     81\u001b[0m \u001b[38;5;28;01mreturn\u001b[39;00m ranks\n",
      "\u001b[0;31mKeyboardInterrupt\u001b[0m: "
     ]
    }
   ],
   "source": [
    "#output before training\n",
    "layer_sizes = [2000,1000,500,100]\n",
    "\n",
    "\n",
    "model = FeedforwardNetwork(input_size=data_train.data.shape[1]*data_train.data.shape[2]\n",
    "                           ,hidden_sizes=layer_sizes, out_layer_sz=10, init_type='none',\n",
    "                          mean = 0, std=0.01)\n",
    "\n",
    "test_samples = np.random.choice(np.arange(0,10000),size=10000,replace=False)\n",
    "test_dat = data_test.data.reshape(len(data_test.data),-1).float()[test_samples]\n",
    "out_code = np.zeros([len(test_dat),len(layer_sizes)])\n",
    "for i, x_i in enumerate(test_dat):\n",
    "    out_code[i,:] = model.compute_rank_at_point(x_i)[:-1]\n",
    "    if i%100==0:\n",
    "        print(i)\n",
    "out = model(data_test.data.reshape(len(data_test.data),-1).float())\n"
   ]
  },
  {
   "cell_type": "code",
   "execution_count": null,
   "id": "37cf81ac-cf2c-4c1f-98ed-3d7d402b508f",
   "metadata": {},
   "outputs": [],
   "source": [
    "rand_samples = 255*torch.randn(test_dat.shape)\n",
    "\n",
    "out_code_pre_rand = np.zeros([len(test_dat),len(layer_sizes)])\n",
    "for i, x_i in enumerate(rand_samples):\n",
    "    out_code_pre_rand[i,:] = model.compute_rank_at_point(x_i)[:-1]\n",
    "    if i%100==0:\n",
    "        print(i)\n"
   ]
  },
  {
   "cell_type": "code",
   "execution_count": null,
   "id": "4e75d230-e007-4eed-a021-df7018964d7a",
   "metadata": {},
   "outputs": [],
   "source": [
    "#show the PCA spectrum of the MNIST data\n",
    "from sklearn.decomposition import PCA\n",
    "reduced_MNIST = PCA().fit(data_test.data.reshape(len(data_test.data),-1).float())\n",
    "reduced_output = PCA().fit(out[-1].detach().numpy())\n",
    "\n",
    "plt.plot(np.arange(1,785),reduced_MNIST.explained_variance_ratio_,'k-o')\n",
    "plt.plot(np.arange(1,len(reduced_output.explained_variance_ratio_)+1),reduced_output.explained_variance_ratio_,'r-o')\n",
    "plt.xscale('log')"
   ]
  },
  {
   "cell_type": "code",
   "execution_count": null,
   "id": "e318604a-2ffb-48cf-92eb-f33f6d21aeb7",
   "metadata": {},
   "outputs": [],
   "source": [
    "#Train\n",
    "import torch.optim as optim\n",
    "from tqdm import tqdm\n",
    "\n",
    "criterion = nn.CrossEntropyLoss()\n",
    "optimizer = optim.Adam(model.parameters(), lr=0.001)\n",
    "\n",
    "# Define the training function\n",
    "def train_model(model, trainloader, criterion, optimizer, num_epochs=20):\n",
    "    model.train()  # Set the model to training mode\n",
    "    for epoch in tqdm(range((num_epochs))):\n",
    "        running_loss = 0.0\n",
    "        for i, data in enumerate(trainloader, 0):\n",
    "            inputs, labels = data\n",
    "            optimizer.zero_grad()\n",
    "\n",
    "            outputs = model(inputs.reshape(len(inputs),-1))[-1]\n",
    "            loss = criterion(outputs, labels)\n",
    "            loss.backward()\n",
    "            optimizer.step()\n",
    "\n",
    "            running_loss += loss.item()\n",
    "        if epoch % 50 == 0:\n",
    "            print('[%d, %5d] loss: %.3f' % (epoch + 1, i + 1, running_loss / 500))\n",
    "            running_loss = 0.0\n",
    "\n",
    "# Train the model\n",
    "train_model(model, trainloader, criterion, optimizer)\n"
   ]
  },
  {
   "cell_type": "code",
   "execution_count": null,
   "id": "c175e330-0963-4efe-b2df-dbcb5655906e",
   "metadata": {},
   "outputs": [],
   "source": [
    "#Calculate test performance\n",
    "out_test = torch.argmax(model(data_test.data.float().reshape(len(data_test.data),-1))[-1],1)\n",
    "print((torch.sum(out_test==data_test.targets)/len(out_test)).item())"
   ]
  },
  {
   "cell_type": "code",
   "execution_count": null,
   "id": "71dbb340-f50c-4464-8dbf-1f65ee37c626",
   "metadata": {},
   "outputs": [],
   "source": [
    "#output after training\n",
    "out_code_post = np.zeros([len(test_dat),len(layer_sizes)])\n",
    "for i, x_i in enumerate(test_dat):\n",
    "    out_code_post[i,:] = model.compute_rank_at_point(x_i)[:-1]\n",
    "    if i%100==0:\n",
    "        print(i)"
   ]
  },
  {
   "cell_type": "code",
   "execution_count": null,
   "id": "d1cdfa73-1e3c-40f9-8d60-3d54adf752b2",
   "metadata": {},
   "outputs": [],
   "source": [
    "#run model through random images to see if low ranks are placed near data samples or if in general the space is lower rank\n",
    "out_code_rand = np.zeros([len(rand_samples),len(layer_sizes)])\n",
    "for i, x_i in enumerate(rand_samples):\n",
    "    out_code_rand[i,:] = model.compute_rank_at_point(x_i)[:-1]\n",
    "    if i%100==0:\n",
    "        print(i)"
   ]
  },
  {
   "cell_type": "code",
   "execution_count": null,
   "id": "4771bd7d-9c63-4ebf-96c1-bf039a619a2d",
   "metadata": {},
   "outputs": [],
   "source": [
    "fig, ax = plt.subplots(2,len(out_code.T),figsize=(8,2))\n",
    "\n",
    "for i in range(len(out_code.T)):\n",
    "    ax[0,i].hist(out_code[:,i],np.linspace(0,min(layer_sizes[i],784),75),\n",
    "                                  color='blue',density=True)\n",
    "    ax[0,i].hist(out_code_post[:,i],np.linspace(0,min(layer_sizes[i],784),75),\n",
    "                                  color='orange',density=True)\n",
    "    ylim = ax[0,i].get_ylim()\n",
    "    ax[0,i].vlines([7,13],[0,0],[1,1],'k',lw=0.4,alpha=0.75)\n",
    "    ax[0,i].set_ylim(ylim)\n",
    "    ax[0,i].set_yticks([])\n",
    "    \n",
    "\n",
    "    ax[0,i].set_title(\"Layer \" + str(i+1))\n",
    "\n",
    "    ax[1,i].hist(out_code_pre_rand[:,i],np.linspace(0,min(layer_sizes[i],784),50),\n",
    "                                  color='green',density=True)\n",
    "    ax[1,i].hist(out_code_rand[:,i],np.linspace(0,min(layer_sizes[i],784),50),\n",
    "                                  color='purple',density=True)\n",
    "    ax[1,i].set_yticks([])\n",
    "fig.tight_layout()\n",
    "#fig.savefig(\"../MNIST_code_hist.png\",dpi=500)"
   ]
  },
  {
   "cell_type": "markdown",
   "id": "2aec39c3-7fac-46a3-a22c-f657fc0f9947",
   "metadata": {},
   "source": [
    "## Regression problem"
   ]
  },
  {
   "cell_type": "code",
   "execution_count": 10,
   "id": "32f4d505-6bb1-4680-86ea-99c4af2dbe1b",
   "metadata": {},
   "outputs": [],
   "source": [
    "from test_functions import OptFunctions\n",
    "from torch.utils.data import Dataset, TensorDataset\n",
    "\n",
    "functions = OptFunctions(10000,2)"
   ]
  },
  {
   "cell_type": "code",
   "execution_count": 11,
   "id": "a6c2fb5e-526e-46d8-a676-a3937ce9536f",
   "metadata": {},
   "outputs": [
    {
     "data": {
      "image/png": "[encoded data removed]",
      "text/plain": [
       "<Figure size 1600x800 with 7 Axes>"
      ]
     },
     "metadata": {},
     "output_type": "display_data"
    }
   ],
   "source": [
    "all_functions = [(method_name,method) for method_name, method in OptFunctions.__dict__.items() if callable(method) \n",
    "                    and not method_name.startswith(\"__\")]\n",
    "function_names = ['Dixon-Price','Rosenbrock','Sphere','Zakharov','Michalewicz','Schwefel','Styblinski-Tang']\n",
    "\n",
    "fig, axs = plt.subplots(len(all_functions),1,figsize=(16,8),subplot_kw={'projection': '3d'})\n",
    "\n",
    "for i in range(len(all_functions)):\n",
    "    x, f_x = all_functions[i][1](functions)\n",
    "\n",
    "    axs[i].scatter(x[0], x[1], f_x, c=f_x, cmap='plasma',s=0.5) \n",
    "    \n",
    "    axs[i].axis('off')\n",
    "    axs[i].set_title(function_names[i])\n",
    "fig.tight_layout()\n",
    "fig.savefig(\"../opt_functions.png\",dpi=500,transparent=True)"
   ]
  },
  {
   "cell_type": "code",
   "execution_count": 31,
   "id": "387d3c85-e49b-4005-a652-a0f29e5b5810",
   "metadata": {},
   "outputs": [
    {
     "name": "stdout",
     "output_type": "stream",
     "text": [
      "Epoch [100/1000], Loss: 0.1973\n",
      "Epoch [200/1000], Loss: 0.2089\n",
      "Epoch [300/1000], Loss: 0.1674\n",
      "Epoch [400/1000], Loss: 0.0751\n",
      "Epoch [500/1000], Loss: 0.0643\n",
      "Epoch [600/1000], Loss: 0.0261\n",
      "Epoch [700/1000], Loss: 0.0626\n",
      "Epoch [800/1000], Loss: 0.0455\n",
      "Epoch [900/1000], Loss: 0.0251\n",
      "Epoch [1000/1000], Loss: 0.0493\n",
      "Epoch [100/1000], Loss: 0.1547\n",
      "Epoch [200/1000], Loss: 0.1217\n",
      "Epoch [300/1000], Loss: 0.0719\n",
      "Epoch [400/1000], Loss: 0.0801\n",
      "Epoch [500/1000], Loss: 0.0998\n",
      "Epoch [600/1000], Loss: 0.1052\n",
      "Epoch [700/1000], Loss: 0.0706\n",
      "Epoch [800/1000], Loss: 0.0810\n",
      "Epoch [900/1000], Loss: 0.0705\n",
      "Epoch [1000/1000], Loss: 0.0582\n",
      "Epoch [100/1000], Loss: 0.1075\n",
      "Epoch [200/1000], Loss: 0.0477\n",
      "Epoch [300/1000], Loss: 0.0552\n",
      "Epoch [400/1000], Loss: 0.0403\n",
      "Epoch [500/1000], Loss: 0.0404\n",
      "Epoch [600/1000], Loss: 0.0440\n",
      "Epoch [700/1000], Loss: 0.0184\n",
      "Epoch [800/1000], Loss: 0.0370\n",
      "Epoch [900/1000], Loss: 0.0176\n",
      "Epoch [1000/1000], Loss: 0.0163\n",
      "Epoch [100/1000], Loss: 0.0895\n",
      "Epoch [200/1000], Loss: 0.0807\n",
      "Epoch [300/1000], Loss: 0.0495\n",
      "Epoch [400/1000], Loss: 0.0299\n",
      "Epoch [500/1000], Loss: 0.0421\n",
      "Epoch [600/1000], Loss: 0.0153\n",
      "Epoch [700/1000], Loss: 0.0150\n",
      "Epoch [800/1000], Loss: 0.0167\n",
      "Epoch [900/1000], Loss: 0.0317\n",
      "Epoch [1000/1000], Loss: 0.0183\n",
      "Epoch [100/1000], Loss: 1.2152\n",
      "Epoch [200/1000], Loss: 0.5591\n",
      "Epoch [300/1000], Loss: 0.6843\n",
      "Epoch [400/1000], Loss: 0.8187\n",
      "Epoch [500/1000], Loss: 0.7093\n",
      "Epoch [600/1000], Loss: 0.6971\n",
      "Epoch [700/1000], Loss: 0.5619\n",
      "Epoch [800/1000], Loss: 0.7881\n",
      "Epoch [900/1000], Loss: 0.9446\n",
      "Epoch [1000/1000], Loss: 1.2679\n",
      "Epoch [100/1000], Loss: 0.5962\n",
      "Epoch [200/1000], Loss: 0.8419\n",
      "Epoch [300/1000], Loss: 0.2803\n",
      "Epoch [400/1000], Loss: 0.1175\n",
      "Epoch [500/1000], Loss: 0.2680\n",
      "Epoch [600/1000], Loss: 0.3495\n",
      "Epoch [700/1000], Loss: 0.1423\n",
      "Epoch [800/1000], Loss: 0.3758\n",
      "Epoch [900/1000], Loss: 0.3851\n",
      "Epoch [1000/1000], Loss: 0.2321\n",
      "Epoch [100/1000], Loss: 0.4729\n",
      "Epoch [200/1000], Loss: 0.2260\n",
      "Epoch [300/1000], Loss: 0.4261\n",
      "Epoch [400/1000], Loss: 0.2153\n",
      "Epoch [500/1000], Loss: 0.1049\n",
      "Epoch [600/1000], Loss: 0.1949\n",
      "Epoch [700/1000], Loss: 0.2359\n",
      "Epoch [800/1000], Loss: 0.2463\n",
      "Epoch [900/1000], Loss: 0.2877\n",
      "Epoch [1000/1000], Loss: 0.3871\n"
     ]
    }
   ],
   "source": [
    "discrete = False\n",
    "f_dim = 30\n",
    "n_samples = 10000\n",
    "opt_functions = OptFunctions(n_samples,f_dim,discretize=discrete,z_score=True)\n",
    "callable_methods = [method for method_name, method in OptFunctions.__dict__.items() if callable(method) \n",
    "                    and not method_name.startswith(\"__\")]\n",
    "criterion_reg = nn.MSELoss()\n",
    "\n",
    "pretrained_codewords = []\n",
    "postrained_codewords = []\n",
    "\n",
    "for func in callable_methods:\n",
    "    x_train, f_train = func(opt_functions)\n",
    "    x_test, f_test = func(opt_functions)\n",
    "    \n",
    "    x_train, x_test = torch.tensor(x_train, dtype=torch.float32), torch.tensor(x_test, dtype=torch.float32)\n",
    "    f_train, f_test = torch.tensor(f_train, dtype=torch.float32), torch.tensor(f_test, dtype=torch.float32)\n",
    "\n",
    "    reg_data_train = TensorDataset(x_train.T, f_train)\n",
    "    reg_data_test = TensorDataset(x_test.T, f_test)\n",
    "    trainloader_reg = torch.utils.data.DataLoader(reg_data_train, batch_size=64, shuffle=True)\n",
    "    testloader_reg = torch.utils.data.DataLoader(reg_data_test, batch_size=64, shuffle=True)\n",
    "\n",
    "    model_reg = FeedforwardNetwork(input_size=f_dim,hidden_sizes=[2*f_dim,f_dim,f_dim],#8*f_dim,4*f_dim,2*f_dim], \n",
    "                               out_layer_sz=1, init_type='none',activation=nn.ReLU())\n",
    "\n",
    "    out_reg_code = np.zeros([len(x_test.T),3])\n",
    "    for i, x_i in enumerate(x_test.T):\n",
    "        out_reg_code[i,:] = model_reg.compute_rank_at_point(x_i)[:-1]\n",
    "    #out_reg = model_reg(x_test.T)\n",
    "    #out_reg_code = [torch.sum(out_reg[i]>0,axis=1) for i in range(len(out_reg))]\n",
    "    pretrained_codewords.append(out_reg_code)\n",
    "\n",
    "    if discrete:\n",
    "        optimizer_reg = optim.Adam(model_reg.parameters(), lr=0.001)\n",
    "    else:\n",
    "        optimizer_reg = optim.Adam(model_reg.parameters(), lr=0.0001)\n",
    "        \n",
    "    num_epochs = 1000\n",
    "    loss_hist = []\n",
    "    for epoch in range(num_epochs):\n",
    "        for inputs, targets in trainloader_reg:\n",
    "            # Forward pass\n",
    "            outputs = model_reg(inputs)[-1]\n",
    "            loss = criterion_reg(outputs, targets.unsqueeze(1))\n",
    "    \n",
    "            # Backward pass and optimization\n",
    "            optimizer_reg.zero_grad()\n",
    "            loss.backward()\n",
    "            optimizer_reg.step()\n",
    "            loss_hist.append(loss.item())\n",
    "    \n",
    "        if (epoch+1) % 100 == 0:\n",
    "            print(f'Epoch [{epoch+1}/{num_epochs}], Loss: {loss.item():.4f}')\n",
    "    \n",
    "    model_reg.eval()\n",
    "    with torch.no_grad():\n",
    "        out_reg_trained = model_reg(x_test.T)\n",
    "    #out_reg_code_trained = [torch.sum(out_reg_trained[i]>0,axis=1) for i in range(len(out_reg_trained))]\n",
    "    out_reg_code_trained = np.zeros([len(x_test.T),3])\n",
    "    for i, x_i in enumerate(x_test.T):\n",
    "        out_reg_code_trained[i,:] = model_reg.compute_rank_at_point(x_i)[:-1]\n",
    "    postrained_codewords.append(out_reg_code_trained)\n"
   ]
  },
  {
   "cell_type": "code",
   "execution_count": 32,
   "id": "efba5365-b93f-4dc0-9f9a-b58e960243f1",
   "metadata": {},
   "outputs": [
    {
     "data": {
      "image/png": "[encoded data removed]",
      "text/plain": [
       "<Figure size 800x200 with 3 Axes>"
      ]
     },
     "metadata": {},
     "output_type": "display_data"
    },
    {
     "data": {
      "image/png": "[encoded data removed]",
      "text/plain": [
       "<Figure size 800x200 with 3 Axes>"
      ]
     },
     "metadata": {},
     "output_type": "display_data"
    },
    {
     "data": {
      "image/png": "[encoded data removed]",
      "text/plain": [
       "<Figure size 800x200 with 3 Axes>"
      ]
     },
     "metadata": {},
     "output_type": "display_data"
    },
    {
     "data": {
      "image/png": "[encoded data removed]",
      "text/plain": [
       "<Figure size 800x200 with 3 Axes>"
      ]
     },
     "metadata": {},
     "output_type": "display_data"
    },
    {
     "data": {
      "image/png": "[encoded data removed]",
      "text/plain": [
       "<Figure size 800x200 with 3 Axes>"
      ]
     },
     "metadata": {},
     "output_type": "display_data"
    },
    {
     "data": {
      "image/png": "[encoded data removed]",
      "text/plain": [
       "<Figure size 800x200 with 3 Axes>"
      ]
     },
     "metadata": {},
     "output_type": "display_data"
    },
    {
     "data": {
      "image/png": "[encoded data removed]",
      "text/plain": [
       "<Figure size 800x200 with 3 Axes>"
      ]
     },
     "metadata": {},
     "output_type": "display_data"
    }
   ],
   "source": [
    "if discrete:\n",
    "    color_hists = ['black','red']\n",
    "else:\n",
    "    color_hists = ['black','red']\n",
    "for n,fnames in enumerate(function_names) :\n",
    "    fig, ax = plt.subplots(1,len(out_reg_code.T),figsize=(8,2))\n",
    "\n",
    "    for i in range(len(out_reg_code.T)):\n",
    "        ax[i].hist(pretrained_codewords[n][i],np.linspace(0,f_dim,10),\n",
    "                                      color=color_hists[0],density=True,alpha=0.7)\n",
    "        ax[i].hist(postrained_codewords[n][i],np.linspace(0,f_dim,10),\n",
    "                                          color=color_hists[1],density=True,alpha=0.7)\n",
    "        ax[i].set_yticks([])\n",
    "    fig.tight_layout()\n",
    "    \n",
    "    #if discrete:\n",
    "    #    fig.savefig(\"../\"+fnames+\"_discrete_hist.png\", dpi=500,transparent=True)\n",
    "    #else:\n",
    "    #    fig.savefig(\"../\"+fnames+\"_continuous_hist.png\", dpi=500,transparent=True)"
   ]
  },
  {
   "cell_type": "code",
   "execution_count": null,
   "id": "7899b416-bd0f-449b-87f1-fea77365c5a4",
   "metadata": {},
   "outputs": [],
   "source": []
  }
 ],
 "metadata": {
  "kernelspec": {
   "display_name": "Python 3 (ipykernel)",
   "language": "python",
   "name": "python3"
  },
  "language_info": {
   "codemirror_mode": {
    "name": "ipython",
    "version": 3
   },
   "file_extension": ".py",
   "mimetype": "text/x-python",
   "name": "python",
   "nbconvert_exporter": "python",
   "pygments_lexer": "ipython3",
   "version": "3.11.7"
  }
 },
 "nbformat": 4,
 "nbformat_minor": 5
}
