{
 "cells": [
  {
   "cell_type": "code",
   "execution_count": 1,
   "id": "7eb3f206-fba1-4eb6-a1de-1b297edc1b20",
   "metadata": {},
   "outputs": [],
   "source": [
    "import numpy as np\n",
    "import sys,os\n",
    "sys.path.append(os.getcwd()[:-11]+'src/')\n",
    "from models import *\n",
    "from topological_methods import *\n",
    "import matplotlib.pyplot as plt\n",
    "clrs = plt.cm.tab20.colors"
   ]
  },
  {
   "cell_type": "code",
   "execution_count": 2,
   "id": "cb89f331-96c8-48af-81c5-e4d0923d800d",
   "metadata": {},
   "outputs": [
    {
     "name": "stderr",
     "output_type": "stream",
     "text": [
      "/Users/kosio/miniconda3/envs/general_env/lib/python3.11/site-packages/torchvision/io/image.py:13: UserWarning: Failed to load image Python extension: 'dlopen(/Users/kosio/miniconda3/envs/general_env/lib/python3.11/site-packages/torchvision/image.so, 0x0006): Symbol not found: __ZN3c1017RegisterOperatorsD1Ev\n",
      "  Referenced from: <CFED5F8E-EC3F-36FD-AAA3-2C6C7F8D3DD9> /Users/kosio/miniconda3/envs/general_env/lib/python3.11/site-packages/torchvision/image.so\n",
      "  Expected in:     <632A2621-54FC-39C2-963C-47795485AE07> /Users/kosio/miniconda3/envs/general_env/lib/python3.11/site-packages/torch/lib/libtorch_cpu.dylib'If you don't plan on using image functionality from `torchvision.io`, you can ignore this warning. Otherwise, there might be something wrong with your environment. Did you have `libjpeg` or `libpng` installed before building `torchvision` from source?\n",
      "  warn(\n"
     ]
    }
   ],
   "source": [
    "from torchvision import datasets, transforms\n",
    "\n",
    "transforms=transforms.Compose([transforms.ToTensor()])#, \n",
    "#                              transforms.Normalize((0.4914, 0.4822, 0.4465), (0.2023, 0.1994, 0.2010))]) #CIFAR10 setup\n",
    "\n",
    "data_train = datasets.FashionMNIST('/Users/kosio/Data/MNIST/', train=True, transform=transforms, download=True)\n",
    "data_test = datasets.FashionMNIST('/Users/kosio/Data/MNIST/', train=False, transform=transforms,download=True)\n",
    "#data_train = datasets.CIFAR10('/Users/kosio/Data/CIFAR10/', train=True, transform=transforms, download=True)\n",
    "#data_test = datasets.CIFAR10('/Users/kosio/Data/CIFAR10/', train=False, transform=transforms,download=True)\n",
    "\n",
    "trainloader = torch.utils.data.DataLoader(data_train, batch_size=64, shuffle=True)\n",
    "testloader = torch.utils.data.DataLoader(data_test, batch_size=64, shuffle=True)\n",
    "\n",
    "trainloader_full = torch.utils.data.DataLoader(data_train, batch_size=len(data_train), shuffle=True)\n",
    "testloader_full = torch.utils.data.DataLoader(data_test, batch_size=len(data_test), shuffle=True)"
   ]
  },
  {
   "cell_type": "code",
   "execution_count": 12,
   "id": "e23ac3ce-dc1b-4f1c-bde6-c80f16ff7980",
   "metadata": {},
   "outputs": [
    {
     "name": "stdout",
     "output_type": "stream",
     "text": [
      "0\n"
     ]
    }
   ],
   "source": [
    "#output before training\n",
    "layer_sizes = [1000,500,250,100]\n",
    "\n",
    "conv_params = {}#{'in_channels':3,\n",
    "#              'out_channels':[64,32,16],\n",
    "#              'kernel_sizes':[3,3,3],\n",
    "#              'image_size':32}\n",
    "\n",
    "model = FeedforwardNetwork(input_size=data_train.data.shape[1]*data_train.data.shape[2]\n",
    "                           ,hidden_sizes=layer_sizes, out_layer_sz=10, init_type='none',\n",
    "                          mean = 0, std=0.01,activation=nn.ReLU,conv_dict=conv_params)\n",
    "\n",
    "test_samples = np.random.choice(np.arange(0,10000),size=10,replace=False)\n",
    "test_dat = next(iter(testloader_full))[0]\n",
    "test_dat = test_dat[test_samples]#.reshape(len(test_dat),-1)[test_samples]#.data.reshape(len(data_test.data),-1).float()[test_samples]\n",
    "out_code = np.zeros([len(test_dat),len(layer_sizes)])\n",
    "for i, x_i in enumerate(test_dat):\n",
    "    out_code[i,:] = model.compute_rank_at_point(x_i)[:-1]\n",
    "    if i%100==0:\n",
    "        print(i)"
   ]
  },
  {
   "cell_type": "code",
   "execution_count": 13,
   "id": "37cf81ac-cf2c-4c1f-98ed-3d7d402b508f",
   "metadata": {},
   "outputs": [
    {
     "name": "stdout",
     "output_type": "stream",
     "text": [
      "0\n"
     ]
    }
   ],
   "source": [
    "rand_samples = 255*torch.randn(test_dat.shape)#255*torch.rand(test_dat.shape)#\n",
    "\n",
    "out_code_pre_rand = np.zeros([len(test_dat),len(layer_sizes)])\n",
    "for i, x_i in enumerate(rand_samples):\n",
    "    out_code_pre_rand[i,:] = model.compute_rank_at_point(x_i)[:-1]\n",
    "    if i%100==0:\n",
    "        print(i)"
   ]
  },
  {
   "cell_type": "code",
   "execution_count": 14,
   "id": "e318604a-2ffb-48cf-92eb-f33f6d21aeb7",
   "metadata": {},
   "outputs": [
    {
     "name": "stderr",
     "output_type": "stream",
     "text": [
      "  2%|█                                                 | 1/50 [00:15<13:01, 15.94s/it]"
     ]
    },
    {
     "name": "stdout",
     "output_type": "stream",
     "text": [
      "[1,   938] loss: 1.013\n"
     ]
    },
    {
     "name": "stderr",
     "output_type": "stream",
     "text": [
      " 94%|██████████████████████████████████████████████   | 47/50 [11:48<00:43, 14.62s/it]/Users/kosio/Repos/LUP-rank-computer/LUP_rank.py:261: RuntimeWarning: invalid value encountered in divide\n",
      "  A = A / np.abs(A).max()\n",
      "100%|█████████████████████████████████████████████████| 50/50 [12:30<00:00, 15.02s/it]\n"
     ]
    }
   ],
   "source": [
    "#Train\n",
    "import torch.optim as optim\n",
    "from tqdm import tqdm\n",
    "\n",
    "criterion = nn.CrossEntropyLoss()\n",
    "optimizer = optim.Adam(model.parameters(), lr=0.001)\n",
    "n_epochs = 50\n",
    "n_test_samples = 50\n",
    "\n",
    "min_ranks_epochs = np.zeros(n_epochs)\n",
    "mean_ranks_epochs = np.zeros(n_epochs)\n",
    "generalization_error = np.zeros(n_epochs)\n",
    "\n",
    "# Define the training function\n",
    "def train_model(model, trainloader, criterion, optimizer, num_epochs=n_epochs):\n",
    "    model.train()  # Set the model to training mode\n",
    "    for epoch in tqdm(range((num_epochs))):\n",
    "        running_loss = 0.0\n",
    "        out_code_temp = np.zeros([n_test_samples])\n",
    "        temp_samples = np.random.choice(np.arange(0,10000),size=n_test_samples,replace=False)\n",
    "        temp_dat = next(iter(testloader_full))[0][temp_samples]#data_test.data.reshape(len(data_test.data),-1).float()[temp_samples]\n",
    "        #temp_dat = temp_dat.reshape(len(temp_dat),-1)\n",
    "        for i, x_i in enumerate(temp_dat):\n",
    "            out_code_temp[i] = model.compute_rank_at_point(x_i)[-2]\n",
    "        #using svd of Jacobian instead\n",
    "        #mean_ranks_epochs[epoch] = compute_jacobian_rank(model,temp_dat)\n",
    "    \n",
    "        min_ranks_epochs[epoch] = np.min(out_code_temp)\n",
    "        mean_ranks_epochs[epoch] = np.mean(out_code_temp)\n",
    "        for i, data in enumerate(trainloader, 0):\n",
    "            inputs, labels = data\n",
    "            optimizer.zero_grad()\n",
    " \n",
    "            outputs = model(inputs.reshape(len(inputs),-1))[-1]#model(inputs)[-1]#\n",
    "            loss = criterion(outputs, labels)\n",
    "            loss.backward()\n",
    "            optimizer.step()\n",
    "\n",
    "            running_loss += loss.item()\n",
    "\n",
    "        generalization_error[epoch] = running_loss/len(trainloader)\n",
    "        if epoch % 50 == 0:\n",
    "            print('[%d, %5d] loss: %.3f' % (epoch + 1, i + 1, running_loss / 500))\n",
    "            running_loss = 0.0\n",
    "\n",
    "# Train the model\n",
    "train_model(model, trainloader, criterion, optimizer)\n"
   ]
  },
  {
   "cell_type": "code",
   "execution_count": 15,
   "id": "c175e330-0963-4efe-b2df-dbcb5655906e",
   "metadata": {},
   "outputs": [
    {
     "ename": "RuntimeError",
     "evalue": "mat1 and mat2 shapes cannot be multiplied (280000x28 and 784x1000)",
     "output_type": "error",
     "traceback": [
      "\u001b[0;31m---------------------------------------------------------------------------\u001b[0m",
      "\u001b[0;31mRuntimeError\u001b[0m                              Traceback (most recent call last)",
      "Cell \u001b[0;32mIn[15], line 5\u001b[0m\n\u001b[1;32m      2\u001b[0m test_dat \u001b[38;5;241m=\u001b[39m \u001b[38;5;28mnext\u001b[39m(\u001b[38;5;28miter\u001b[39m(testloader_full))\n\u001b[1;32m      3\u001b[0m \u001b[38;5;66;03m#test_dat = (test_dat[0]).reshape(len(test_dat[0]),-1)\u001b[39;00m\n\u001b[0;32m----> 5\u001b[0m out_test \u001b[38;5;241m=\u001b[39m torch\u001b[38;5;241m.\u001b[39margmax(model(test_dat[\u001b[38;5;241m0\u001b[39m])[\u001b[38;5;241m-\u001b[39m\u001b[38;5;241m1\u001b[39m],\u001b[38;5;241m1\u001b[39m)\u001b[38;5;66;03m#.reshape(len(test_dat[0]),-1))[-1],1)\u001b[39;00m\n\u001b[1;32m      6\u001b[0m \u001b[38;5;28mprint\u001b[39m((torch\u001b[38;5;241m.\u001b[39msum(out_test\u001b[38;5;241m==\u001b[39mtorch\u001b[38;5;241m.\u001b[39mTensor(test_dat[\u001b[38;5;241m1\u001b[39m]))\u001b[38;5;241m/\u001b[39m\u001b[38;5;28mlen\u001b[39m(out_test))\u001b[38;5;241m.\u001b[39mitem())\n",
      "File \u001b[0;32m~/miniconda3/envs/general_env/lib/python3.11/site-packages/torch/nn/modules/module.py:1511\u001b[0m, in \u001b[0;36mModule._wrapped_call_impl\u001b[0;34m(self, *args, **kwargs)\u001b[0m\n\u001b[1;32m   1509\u001b[0m     \u001b[38;5;28;01mreturn\u001b[39;00m \u001b[38;5;28mself\u001b[39m\u001b[38;5;241m.\u001b[39m_compiled_call_impl(\u001b[38;5;241m*\u001b[39margs, \u001b[38;5;241m*\u001b[39m\u001b[38;5;241m*\u001b[39mkwargs)  \u001b[38;5;66;03m# type: ignore[misc]\u001b[39;00m\n\u001b[1;32m   1510\u001b[0m \u001b[38;5;28;01melse\u001b[39;00m:\n\u001b[0;32m-> 1511\u001b[0m     \u001b[38;5;28;01mreturn\u001b[39;00m \u001b[38;5;28mself\u001b[39m\u001b[38;5;241m.\u001b[39m_call_impl(\u001b[38;5;241m*\u001b[39margs, \u001b[38;5;241m*\u001b[39m\u001b[38;5;241m*\u001b[39mkwargs)\n",
      "File \u001b[0;32m~/miniconda3/envs/general_env/lib/python3.11/site-packages/torch/nn/modules/module.py:1520\u001b[0m, in \u001b[0;36mModule._call_impl\u001b[0;34m(self, *args, **kwargs)\u001b[0m\n\u001b[1;32m   1515\u001b[0m \u001b[38;5;66;03m# If we don't have any hooks, we want to skip the rest of the logic in\u001b[39;00m\n\u001b[1;32m   1516\u001b[0m \u001b[38;5;66;03m# this function, and just call forward.\u001b[39;00m\n\u001b[1;32m   1517\u001b[0m \u001b[38;5;28;01mif\u001b[39;00m \u001b[38;5;129;01mnot\u001b[39;00m (\u001b[38;5;28mself\u001b[39m\u001b[38;5;241m.\u001b[39m_backward_hooks \u001b[38;5;129;01mor\u001b[39;00m \u001b[38;5;28mself\u001b[39m\u001b[38;5;241m.\u001b[39m_backward_pre_hooks \u001b[38;5;129;01mor\u001b[39;00m \u001b[38;5;28mself\u001b[39m\u001b[38;5;241m.\u001b[39m_forward_hooks \u001b[38;5;129;01mor\u001b[39;00m \u001b[38;5;28mself\u001b[39m\u001b[38;5;241m.\u001b[39m_forward_pre_hooks\n\u001b[1;32m   1518\u001b[0m         \u001b[38;5;129;01mor\u001b[39;00m _global_backward_pre_hooks \u001b[38;5;129;01mor\u001b[39;00m _global_backward_hooks\n\u001b[1;32m   1519\u001b[0m         \u001b[38;5;129;01mor\u001b[39;00m _global_forward_hooks \u001b[38;5;129;01mor\u001b[39;00m _global_forward_pre_hooks):\n\u001b[0;32m-> 1520\u001b[0m     \u001b[38;5;28;01mreturn\u001b[39;00m forward_call(\u001b[38;5;241m*\u001b[39margs, \u001b[38;5;241m*\u001b[39m\u001b[38;5;241m*\u001b[39mkwargs)\n\u001b[1;32m   1522\u001b[0m \u001b[38;5;28;01mtry\u001b[39;00m:\n\u001b[1;32m   1523\u001b[0m     result \u001b[38;5;241m=\u001b[39m \u001b[38;5;28;01mNone\u001b[39;00m\n",
      "File \u001b[0;32m~/Repos/top-mfld-class/src/models.py:91\u001b[0m, in \u001b[0;36mFeedforwardNetwork.forward\u001b[0;34m(self, x)\u001b[0m\n\u001b[1;32m     89\u001b[0m         layerwise_activations\u001b[38;5;241m.\u001b[39mappend(torch\u001b[38;5;241m.\u001b[39mflatten(x\u001b[38;5;241m.\u001b[39mclone(),\u001b[38;5;241m1\u001b[39m))\n\u001b[1;32m     90\u001b[0m     \u001b[38;5;28;01melse\u001b[39;00m:\n\u001b[0;32m---> 91\u001b[0m         x \u001b[38;5;241m=\u001b[39m layer(x)\n\u001b[1;32m     92\u001b[0m \u001b[38;5;28;01mif\u001b[39;00m \u001b[38;5;28mself\u001b[39m\u001b[38;5;241m.\u001b[39mout_layer_sz\u001b[38;5;241m>\u001b[39m\u001b[38;5;241m0\u001b[39m:\n\u001b[1;32m     93\u001b[0m     layerwise_activations\u001b[38;5;241m.\u001b[39mappend(x)\n",
      "File \u001b[0;32m~/miniconda3/envs/general_env/lib/python3.11/site-packages/torch/nn/modules/module.py:1511\u001b[0m, in \u001b[0;36mModule._wrapped_call_impl\u001b[0;34m(self, *args, **kwargs)\u001b[0m\n\u001b[1;32m   1509\u001b[0m     \u001b[38;5;28;01mreturn\u001b[39;00m \u001b[38;5;28mself\u001b[39m\u001b[38;5;241m.\u001b[39m_compiled_call_impl(\u001b[38;5;241m*\u001b[39margs, \u001b[38;5;241m*\u001b[39m\u001b[38;5;241m*\u001b[39mkwargs)  \u001b[38;5;66;03m# type: ignore[misc]\u001b[39;00m\n\u001b[1;32m   1510\u001b[0m \u001b[38;5;28;01melse\u001b[39;00m:\n\u001b[0;32m-> 1511\u001b[0m     \u001b[38;5;28;01mreturn\u001b[39;00m \u001b[38;5;28mself\u001b[39m\u001b[38;5;241m.\u001b[39m_call_impl(\u001b[38;5;241m*\u001b[39margs, \u001b[38;5;241m*\u001b[39m\u001b[38;5;241m*\u001b[39mkwargs)\n",
      "File \u001b[0;32m~/miniconda3/envs/general_env/lib/python3.11/site-packages/torch/nn/modules/module.py:1520\u001b[0m, in \u001b[0;36mModule._call_impl\u001b[0;34m(self, *args, **kwargs)\u001b[0m\n\u001b[1;32m   1515\u001b[0m \u001b[38;5;66;03m# If we don't have any hooks, we want to skip the rest of the logic in\u001b[39;00m\n\u001b[1;32m   1516\u001b[0m \u001b[38;5;66;03m# this function, and just call forward.\u001b[39;00m\n\u001b[1;32m   1517\u001b[0m \u001b[38;5;28;01mif\u001b[39;00m \u001b[38;5;129;01mnot\u001b[39;00m (\u001b[38;5;28mself\u001b[39m\u001b[38;5;241m.\u001b[39m_backward_hooks \u001b[38;5;129;01mor\u001b[39;00m \u001b[38;5;28mself\u001b[39m\u001b[38;5;241m.\u001b[39m_backward_pre_hooks \u001b[38;5;129;01mor\u001b[39;00m \u001b[38;5;28mself\u001b[39m\u001b[38;5;241m.\u001b[39m_forward_hooks \u001b[38;5;129;01mor\u001b[39;00m \u001b[38;5;28mself\u001b[39m\u001b[38;5;241m.\u001b[39m_forward_pre_hooks\n\u001b[1;32m   1518\u001b[0m         \u001b[38;5;129;01mor\u001b[39;00m _global_backward_pre_hooks \u001b[38;5;129;01mor\u001b[39;00m _global_backward_hooks\n\u001b[1;32m   1519\u001b[0m         \u001b[38;5;129;01mor\u001b[39;00m _global_forward_hooks \u001b[38;5;129;01mor\u001b[39;00m _global_forward_pre_hooks):\n\u001b[0;32m-> 1520\u001b[0m     \u001b[38;5;28;01mreturn\u001b[39;00m forward_call(\u001b[38;5;241m*\u001b[39margs, \u001b[38;5;241m*\u001b[39m\u001b[38;5;241m*\u001b[39mkwargs)\n\u001b[1;32m   1522\u001b[0m \u001b[38;5;28;01mtry\u001b[39;00m:\n\u001b[1;32m   1523\u001b[0m     result \u001b[38;5;241m=\u001b[39m \u001b[38;5;28;01mNone\u001b[39;00m\n",
      "File \u001b[0;32m~/miniconda3/envs/general_env/lib/python3.11/site-packages/torch/nn/modules/linear.py:116\u001b[0m, in \u001b[0;36mLinear.forward\u001b[0;34m(self, input)\u001b[0m\n\u001b[1;32m    115\u001b[0m \u001b[38;5;28;01mdef\u001b[39;00m \u001b[38;5;21mforward\u001b[39m(\u001b[38;5;28mself\u001b[39m, \u001b[38;5;28minput\u001b[39m: Tensor) \u001b[38;5;241m-\u001b[39m\u001b[38;5;241m>\u001b[39m Tensor:\n\u001b[0;32m--> 116\u001b[0m     \u001b[38;5;28;01mreturn\u001b[39;00m F\u001b[38;5;241m.\u001b[39mlinear(\u001b[38;5;28minput\u001b[39m, \u001b[38;5;28mself\u001b[39m\u001b[38;5;241m.\u001b[39mweight, \u001b[38;5;28mself\u001b[39m\u001b[38;5;241m.\u001b[39mbias)\n",
      "\u001b[0;31mRuntimeError\u001b[0m: mat1 and mat2 shapes cannot be multiplied (280000x28 and 784x1000)"
     ]
    }
   ],
   "source": [
    "#Calculate test performance\n",
    "test_dat = next(iter(testloader_full))\n",
    "#test_dat = (test_dat[0]).reshape(len(test_dat[0]),-1)\n",
    "\n",
    "out_test = torch.argmax(model(test_dat[0])[-1],1)#.reshape(len(test_dat[0]),-1))[-1],1)\n",
    "print((torch.sum(out_test==torch.Tensor(test_dat[1]))/len(out_test)).item())"
   ]
  },
  {
   "cell_type": "code",
   "execution_count": 17,
   "id": "fa3e65a4-97ac-4a9d-bcbb-9b9ae1bd6f75",
   "metadata": {},
   "outputs": [
    {
     "data": {
      "image/png": "[encoded data removed]",
      "text/plain": [
       "<Figure size 500x500 with 1 Axes>"
      ]
     },
     "metadata": {},
     "output_type": "display_data"
    }
   ],
   "source": [
    "fig = plt.figure(figsize=(5,5))\n",
    "#plt.scatter(np.arange(0,n_epochs),min_ranks_epochs,c=generalization_error,cmap='hot',vmax=100,vmin=0)\n",
    "\n",
    "#plt.plot(mean_ranks_epochs, generalization_error/len(trainloader),color='k')\n",
    "#plt.scatter(mean_ranks_epochs, generalization_error/len(trainloader),c=np.arange(0,n_epochs),cmap='hot',zorder=1000)\n",
    "#plt.plot(mean_ranks_epochs, generalization_error,color='k',lw=3,alpha=1)\n",
    "#for i in range(len(min_ranks_epochs) - 1):\n",
    "#    plt.annotate('', xy=(min_ranks_epochs[i+1], generalization_error[i+1]), xytext=(min_ranks_epochs[i], generalization_error[i]),\n",
    "#                 arrowprops=dict(facecolor='black', lw=1.5,arrowstyle='->', shrinkA=1000, shrinkB=0),)\n",
    "for i in range(len(mean_ranks_epochs) - 1):\n",
    "    plt.annotate('', xy=(mean_ranks_epochs[i+1], generalization_error[i+1]), xytext=(mean_ranks_epochs[i], generalization_error[i]),\n",
    "                 arrowprops=dict(edgecolor='gray', lw=1.5,arrowstyle='->', shrinkA=1000, shrinkB=0),)\n",
    "\n",
    "plt.fill_betweenx([-1,2*max(generalization_error)],[0,0],[7,7],color='#c7b195ff',alpha=0.3)\n",
    "plt.fill_betweenx([-1,2*max(generalization_error)],[7,7],[13,13],color='#95c79aff',alpha=0.3)\n",
    "plt.fill_betweenx([-1,2*max(generalization_error)],[13,13],[max(mean_ranks_epochs)+10,max(mean_ranks_epochs)+10],color='#95c6c7ff',alpha=0.3)\n",
    "plt.scatter(mean_ranks_epochs, generalization_error,c=np.arange(0,n_epochs),cmap='hot',zorder=1000,s=6)\n",
    "plt.ylim([0,max(generalization_error)+0.01])\n",
    "#plt.xlim([0,40])\n",
    "plt.xlabel('mean rank',fontsize=10)\n",
    "#plt.xlabel('Singular value decay',fontsize=10)\n",
    "plt.ylabel('test generalization')\n",
    "#plt.yscale('log')\n",
    "plt.savefig(\"/Users/kosio/Figures/MfldClassification/rank_generalization_fMNIST.png\",dpi=500, transparent=True)"
   ]
  },
  {
   "cell_type": "code",
   "execution_count": null,
   "id": "fc874f06-07ac-4075-ae41-7b2883e00840",
   "metadata": {},
   "outputs": [],
   "source": [
    "fig = plt.figure(figsize=(5,5))\n",
    "#plt.scatter(np.arange(0,n_epochs),min_ranks_epochs,c=generalization_error,cmap='hot',vmax=100,vmin=0)\n",
    "\n",
    "#plt.plot(mean_ranks_epochs, generalization_error/len(trainloader),color='k')\n",
    "#plt.scatter(mean_ranks_epochs, generalization_error/len(trainloader),c=np.arange(0,n_epochs),cmap='hot',zorder=1000)\n",
    "#plt.plot(mean_ranks_epochs, generalization_error,color='k',lw=3,alpha=1)\n",
    "#for i in range(len(min_ranks_epochs) - 1):\n",
    "#    plt.annotate('', xy=(min_ranks_epochs[i+1], generalization_error[i+1]), xytext=(min_ranks_epochs[i], generalization_error[i]),\n",
    "#                 arrowprops=dict(facecolor='black', lw=1.5,arrowstyle='->', shrinkA=1000, shrinkB=0),)\n",
    "for i in range(len(mean_ranks_epochs) - 1):\n",
    "    plt.annotate('', xy=(min_ranks_epochs[i+1], generalization_error[i+1]), xytext=(min_ranks_epochs[i], generalization_error[i]),\n",
    "                 arrowprops=dict(edgecolor='gray', lw=1.5,arrowstyle='->', shrinkA=1000, shrinkB=0),)\n",
    "\n",
    "plt.fill_betweenx([-1,2*max(generalization_error)],[0,0],[13,13],color='#c7b195ff',alpha=0.3)\n",
    "plt.fill_betweenx([-1,2*max(generalization_error)],[13,13],[26,26],color='#95c79aff',alpha=0.3)\n",
    "plt.fill_betweenx([-1,2*max(generalization_error)],[26,26],[max(mean_ranks_epochs)+10,max(mean_ranks_epochs)+10],color='#95c6c7ff',alpha=0.3)\n",
    "plt.scatter(min_ranks_epochs, generalization_error,c=np.arange(0,n_epochs),cmap='hot',zorder=1000,s=6)\n",
    "plt.ylim([0,max(generalization_error)+0.01])\n",
    "#plt.xlim([0,40])\n",
    "plt.xlabel('min rank',fontsize=10)\n",
    "plt.ylabel('test generalization')\n",
    "#plt.yscale('log')\n",
    "#plt.savefig(\"/Users/kosio/Figures/MfldClassification/rank_generalization_min_CIFAR.png\",dpi=500, transparent=True)"
   ]
  },
  {
   "cell_type": "code",
   "execution_count": null,
   "id": "71dbb340-f50c-4464-8dbf-1f65ee37c626",
   "metadata": {},
   "outputs": [],
   "source": [
    "#output after training\n",
    "test_dat = test_dat[0][test_samples]#.reshape(len(test_dat[0][test_samples]),-1)\n",
    "out_code_post = np.zeros([len(test_dat),len(layer_sizes)])\n",
    "for i, x_i in enumerate(test_dat):\n",
    "    out_code_post[i,:] = model.compute_rank_at_point(x_i)[:-1]\n",
    "    if i%100==0:\n",
    "        print(i)"
   ]
  },
  {
   "cell_type": "code",
   "execution_count": null,
   "id": "d1cdfa73-1e3c-40f9-8d60-3d54adf752b2",
   "metadata": {},
   "outputs": [],
   "source": [
    "#run model through random images to see if low ranks are placed near data samples or if in general the space is lower rank\n",
    "out_code_rand = np.zeros([len(rand_samples),len(layer_sizes)])\n",
    "for i, x_i in enumerate(rand_samples):\n",
    "    out_code_rand[i,:] = model.compute_rank_at_point(x_i)[:-1]\n",
    "    if i%100==0:\n",
    "        print(i)"
   ]
  },
  {
   "cell_type": "code",
   "execution_count": null,
   "id": "6d0edc87-44f0-4dae-9fb4-1421df98d0ff",
   "metadata": {},
   "outputs": [],
   "source": [
    "from torch.autograd.functional import jacobian\n",
    "from torch.autograd import grad\n",
    "\n",
    "test_dat.requires_grad = True\n",
    "y = model(test_dat)[-5]\n",
    "\n",
    "# Compute the Jacobian matrix\n",
    "jacobian = []\n",
    "for i in range(y.size(1)):\n",
    "    grad_output = torch.zeros_like(y)\n",
    "    grad_output[:, i] = 1\n",
    "    gradients = torch.autograd.grad(outputs=y, inputs=test_dat, grad_outputs=grad_output, retain_graph=True, create_graph=True)[0]\n",
    "    jacobian.append(gradients)\n",
    "\n",
    "jacobian = torch.stack(jacobian, dim=1)\n",
    "metric_tensor = torch.einsum ('imk,jnk -> imn', jacobian, jacobian)\n",
    "eigspect = [torch.linalg.eig(metric_tensor[i]).eigenvalues.detach().numpy() for i in range(len(metric_tensor))]"
   ]
  },
  {
   "cell_type": "code",
   "execution_count": null,
   "id": "902e0dc5-3e4e-4513-a9df-424748627126",
   "metadata": {},
   "outputs": [],
   "source": [
    "_ = [plt.plot(abs(eigspect[i])/max(abs(eigspect[i])),'k-o',alpha=0.01) for i in range(len(metric_tensor))]\n",
    "#plt.yscale('log')\n",
    "plt.xlim([-1,50])\n",
    "#plt.xscale('log')"
   ]
  },
  {
   "cell_type": "code",
   "execution_count": null,
   "id": "0d973a07-73e3-483f-bd5a-bcd55a6fc37c",
   "metadata": {},
   "outputs": [],
   "source": [
    "#plots of MNIST digit and noise sample.\n",
    "plt.figure()\n",
    "plt.imshow(data_test.data[120],cmap='grey')\n",
    "plt.axis('off')\n",
    "#plt.savefig(\"/Users/kosio/Figures/MfldClassification/MNIST_digit.png\",dpi=500,transparent=True)\n",
    "\n",
    "plt.figure()\n",
    "plt.figure()\n",
    "plt.imshow(rand_samples[0].reshape(28,28),cmap='grey')\n",
    "plt.axis('off')\n",
    "#plt.savefig(\"/Users/kosio/Figures/MfldClassification/noise_digit.png\",dpi=500,transparent=True)"
   ]
  },
  {
   "cell_type": "code",
   "execution_count": null,
   "id": "4771bd7d-9c63-4ebf-96c1-bf039a619a2d",
   "metadata": {},
   "outputs": [],
   "source": [
    "fig, ax = plt.subplots(2,len(out_code.T),figsize=(8,2))\n",
    "\n",
    "for i in range(len(out_code.T)):\n",
    "    ax[0,i].hist(out_code[:,i],np.linspace(0,min(layer_sizes[i],784),75),\n",
    "                                  color='blue',density=True)\n",
    "    ax[0,i].hist(out_code_post[:,i],np.linspace(0,min(layer_sizes[i],784),75),\n",
    "                                  color='orange',density=True)\n",
    "    ylim = ax[0,i].get_ylim()\n",
    "    ax[0,i].vlines([7,13],[0,0],[1,1],'k',lw=0.4,alpha=0.75)\n",
    "    ax[0,i].set_ylim(ylim)\n",
    "    ax[0,i].set_yticks([])\n",
    "    \n",
    "\n",
    "    ax[0,i].set_title(\"Layer \" + str(i+1))\n",
    "\n",
    "    ax[1,i].hist(out_code_pre_rand[:,i],np.linspace(0,min(layer_sizes[i],784),50),\n",
    "                                  color='blue',density=True)\n",
    "    ax[1,i].hist(out_code_rand[:,i],np.linspace(0,min(layer_sizes[i],784),50),\n",
    "                                  color='orange',density=True)\n",
    "    ax[1,i].set_yticks([])\n",
    "fig.tight_layout()\n",
    "fig.savefig(\"../CIFAR_code_hist.png\",dpi=500)"
   ]
  },
  {
   "cell_type": "code",
   "execution_count": null,
   "id": "86a04a93-1ac5-4e58-a920-bf37c56ae046",
   "metadata": {},
   "outputs": [],
   "source": [
    "#option 2\n",
    "fig, ax = plt.subplots(2,2*len(out_code.T),figsize=(8,2))\n",
    "\n",
    "for i in range(len(out_code.T)):\n",
    "    ax[0,2*i].hist(out_code[:,i],np.linspace(max(0,min(out_code[:,i])-10),min(max(out_code[:,i])+10,800),50),\n",
    "                                  color='blue',density=True)\n",
    "    ax[0,2*i+1].hist(out_code_post[:,i],np.linspace(max(min(out_code_post[:,i])-10,0),min(max(out_code_post[:,i])+10,800),50),\n",
    "                                  color='orange',density=True)\n",
    "    ylim = ax[0,2*i].get_ylim()\n",
    "    #ax[0,2*i].vlines([7,13],[0,0],[1,1],'k',lw=0.4,alpha=0.75)\n",
    "    ax[0,2*i].set_ylim(ylim)\n",
    "    ax[0,2*i].set_yticks([])\n",
    "\n",
    "    ylim2 = ax[0,2*i+1].get_ylim()\n",
    "    ax[0,2*i+1].vlines([7,13],[0,0],[1,1],'k',lw=0.4,alpha=0.75)\n",
    "    ax[0,2*i+1].set_ylim(ylim2)\n",
    "    ax[0,2*i+1].set_yticks([])\n",
    "    \n",
    "\n",
    "    ax[0,2*i].set_title(\"Layer \" + str(i+1))\n",
    "\n",
    "    ax[1,2*i].hist(out_code_pre_rand[:,i],np.linspace(max(0,min(out_code_pre_rand[:,i])-10),min(max(out_code_pre_rand[:,i])+10,800),50),\n",
    "                                  color='blue',density=True)\n",
    "    ax[1,2*i+1].hist(out_code_rand[:,i],np.linspace(max(min(out_code_rand[:,i])-10,0),min(max(out_code_rand[:,i])+10,800),50),\n",
    "                                  color='orange',density=True)\n",
    "    ax[1,2*i].set_yticks([])\n",
    "    ax[1,2*i+1].set_yticks([])\n",
    "fig.tight_layout()\n",
    "fig.savefig(\"../FMNIST_code_hist.png\",dpi=500)"
   ]
  },
  {
   "cell_type": "markdown",
   "id": "2aec39c3-7fac-46a3-a22c-f657fc0f9947",
   "metadata": {},
   "source": [
    "## Regression problem"
   ]
  },
  {
   "cell_type": "code",
   "execution_count": null,
   "id": "32f4d505-6bb1-4680-86ea-99c4af2dbe1b",
   "metadata": {},
   "outputs": [],
   "source": [
    "from test_functions import *\n",
    "from torch.utils.data import Dataset, TensorDataset\n",
    "\n",
    "functions = OptFunctions(10000,2)"
   ]
  },
  {
   "cell_type": "code",
   "execution_count": null,
   "id": "a6c2fb5e-526e-46d8-a676-a3937ce9536f",
   "metadata": {},
   "outputs": [],
   "source": [
    "all_functions = [(method_name,method) for method_name, method in OptFunctions.__dict__.items() if callable(method) \n",
    "                    and not method_name.startswith(\"__\")]\n",
    "function_names = ['Dixon-Price','Rosenbrock','Sphere','Zakharov','Michalewicz','Schwefel','Styblinski-Tang']\n",
    "\n",
    "fig, axs = plt.subplots(len(all_functions),1,figsize=(16,8),subplot_kw={'projection': '3d'})\n",
    "\n",
    "for i in range(len(all_functions)):\n",
    "    x, f_x = all_functions[i][1](functions)\n",
    "\n",
    "    axs[i].scatter(x[0], x[1], f_x, c=f_x, cmap='plasma',s=0.5) \n",
    "    \n",
    "    axs[i].axis('off')\n",
    "    axs[i].set_title(function_names[i])\n",
    "fig.tight_layout()\n",
    "#fig.savefig(\"../opt_functions.png\",dpi=500,transparent=True)"
   ]
  },
  {
   "cell_type": "code",
   "execution_count": null,
   "id": "387d3c85-e49b-4005-a652-a0f29e5b5810",
   "metadata": {},
   "outputs": [],
   "source": [
    "discrete = True\n",
    "f_dim = 20\n",
    "n_samples = 10000\n",
    "opt_functions = OptFunctions(n_samples,f_dim,discretize=discrete,z_score=True)\n",
    "callable_methods = [method for method_name, method in OptFunctions.__dict__.items() if callable(method) \n",
    "                    and not method_name.startswith(\"__\")]\n",
    "criterion_reg = nn.MSELoss()\n",
    "\n",
    "pretrained_codewords = []\n",
    "postrained_codewords = []\n",
    "\n",
    "for func in callable_methods:\n",
    "    x_train, f_train = func(opt_functions)\n",
    "    x_test, f_test = func(opt_functions)\n",
    "    \n",
    "    x_train, x_test = torch.tensor(x_train, dtype=torch.float32), torch.tensor(x_test, dtype=torch.float32)\n",
    "    f_train, f_test = torch.tensor(f_train, dtype=torch.float32), torch.tensor(f_test, dtype=torch.float32)\n",
    "\n",
    "    reg_data_train = TensorDataset(x_train.T, f_train)\n",
    "    reg_data_test = TensorDataset(x_test.T, f_test)\n",
    "    trainloader_reg = torch.utils.data.DataLoader(reg_data_train, batch_size=64, shuffle=True)\n",
    "    testloader_reg = torch.utils.data.DataLoader(reg_data_test, batch_size=64, shuffle=True)\n",
    "\n",
    "    model_reg = FeedforwardNetwork(input_size=f_dim,hidden_sizes=[8*f_dim,4*f_dim,2*f_dim],#8*f_dim,4*f_dim,2*f_dim], \n",
    "                               out_layer_sz=1, init_type='none',activation=nn.ReLU())\n",
    "\n",
    "    #out_reg_code = np.zeros([len(x_test.T),3])\n",
    "    #for i, x_i in enumerate(x_test.T):\n",
    "    #    out_reg_code[i,:] = model_reg.compute_rank_at_point(x_i)[:-1]\n",
    "    out_reg = model_reg(x_test.T)\n",
    "    out_reg_code = [torch.sum(out_reg[i]>0,axis=1) for i in range(len(out_reg))]\n",
    "    pretrained_codewords.append(out_reg_code)\n",
    "\n",
    "    if discrete:\n",
    "        optimizer_reg = optim.Adam(model_reg.parameters(), lr=0.001)\n",
    "    else:\n",
    "        optimizer_reg = optim.Adam(model_reg.parameters(), lr=0.0001)\n",
    "        \n",
    "    num_epochs = 1000\n",
    "    loss_hist = []\n",
    "    for epoch in range(num_epochs):\n",
    "        for inputs, targets in trainloader_reg:\n",
    "            # Forward pass\n",
    "            outputs = model_reg(inputs)[-1]\n",
    "            loss = criterion_reg(outputs, targets.unsqueeze(1))\n",
    "    \n",
    "            # Backward pass and optimization\n",
    "            optimizer_reg.zero_grad()\n",
    "            loss.backward()\n",
    "            optimizer_reg.step()\n",
    "            loss_hist.append(loss.item())\n",
    "    \n",
    "        if (epoch+1) % 500 == 0:\n",
    "            print(f'Epoch [{epoch+1}/{num_epochs}], Loss: {loss.item():.4f}')\n",
    "    \n",
    "    model_reg.eval()\n",
    "    with torch.no_grad():\n",
    "        out_reg_trained = model_reg(x_test.T)\n",
    "    out_reg_code_trained = [torch.sum(out_reg_trained[i]>0,axis=1) for i in range(len(out_reg_trained))]\n",
    "    #out_reg_code_trained = np.zeros([len(x_test.T),3])\n",
    "    #for i, x_i in enumerate(x_test.T):\n",
    "    #    out_reg_code_trained[i,:] = model_reg.compute_rank_at_point(x_i)[:-1]\n",
    "    postrained_codewords.append(out_reg_code_trained)\n"
   ]
  },
  {
   "cell_type": "code",
   "execution_count": null,
   "id": "efba5365-b93f-4dc0-9f9a-b58e960243f1",
   "metadata": {},
   "outputs": [],
   "source": [
    "color_hists = ['black','red']\n",
    "\n",
    "for n,fnames in enumerate(function_names):\n",
    "    fig, ax = plt.subplots(1,len(out_reg_code)-1,figsize=(8,2))\n",
    "\n",
    "    for i in range(len(out_reg_code)-1):\n",
    "        ax[i].hist(pretrained_codewords[n][i],20,#np.linspace(0,f_dim,20),\n",
    "                                      color=color_hists[0],density=True,alpha=0.7)\n",
    "        ax[i].hist(postrained_codewords[n][i],20,#np.linspace(0,f_dim,20),\n",
    "                                          color=color_hists[1],density=True,alpha=0.7)\n",
    "        ax[i].set_yticks([])\n",
    "    fig.tight_layout()\n",
    "    \n",
    "    if discrete:\n",
    "        fig.savefig(\"../\"+fnames+\"_discrete_hist.png\", dpi=500,transparent=True)\n",
    "    else:\n",
    "        fig.savefig(\"../\"+fnames+\"_continuous_hist.png\", dpi=500,transparent=True)"
   ]
  },
  {
   "cell_type": "code",
   "execution_count": null,
   "id": "47f8e66e-6c0e-45d8-920e-0ca1b08df0fa",
   "metadata": {},
   "outputs": [],
   "source": [
    "#Example of increasingly smooth functions\n",
    "dim = 2\n",
    "n_samples = 10000\n",
    "n_funcs = 14\n",
    "x,funct = OptFunctions(n_samples,dim).sphere()#lambda x: np.sum([np.polynomial.legendre.Legendre([0] * 3 + [1])(y) for y in x],0)\n",
    "functions = gen_classif_functions(funct,n_functions=n_funcs).T[[0,1,2,3,6,12]]\n",
    "n_funcs = len(functions)+1"
   ]
  },
  {
   "cell_type": "code",
   "execution_count": null,
   "id": "14b9b878-b002-4286-90bb-c4cbc8759a0e",
   "metadata": {},
   "outputs": [],
   "source": [
    "np.unique(functions[-2])"
   ]
  },
  {
   "cell_type": "code",
   "execution_count": null,
   "id": "b02e7939-f8e1-4cf2-b8b5-ffa421e9c1f1",
   "metadata": {},
   "outputs": [],
   "source": [
    "#Plot the functions\n",
    "fig, ax = plt.subplots(1,n_funcs-1,figsize=(n_funcs-1,2),subplot_kw={'projection': '3d'})\n",
    "for i in range(n_funcs-1):\n",
    "    ax[i].scatter(x[0],x[1],functions[i],c=functions[i],cmap='plasma')\n",
    "    ax[i].axis('off')\n",
    "fig.tight_layout()\n",
    "fig.savefig(\"/Users/kosio/Figures/MfldClassification/disc_functs.png\",dpi=500, transparent=True)"
   ]
  },
  {
   "cell_type": "code",
   "execution_count": null,
   "id": "7899b416-bd0f-449b-87f1-fea77365c5a4",
   "metadata": {},
   "outputs": [],
   "source": [
    "# training on increasingly smooth functions\n",
    "dim = 20\n",
    "n_reps = 10\n",
    "n_samples = 10000\n",
    "pretrained_codewords = np.zeros([n_reps,n_funcs-1,int(n_samples*0.5)])\n",
    "postrained_codewords = np.zeros([n_reps,n_funcs-1,int(n_samples*0.5)])\n",
    "criterion_reg = nn.MSELoss()\n",
    "for nr in range(n_reps):\n",
    "    #x = np.random.uniform(-1,1,[dim,n_samples])\n",
    "    x,funct = OptFunctions(n_samples,dim).sphere()#lambda x: np.sum([np.polynomial.legendre.Legendre([0] * 3 + [1])(y) for y in x],0)\n",
    "    functions = gen_classif_functions(funct,n_functions=n_funcs).T\n",
    "    \n",
    "    for n, func in enumerate(functions):\n",
    "        train_set = np.random.choice(np.arange(0,n_samples),replace=False,size = int(0.5*n_samples))\n",
    "        test_set = np.setdiff1d(np.arange(0,n_samples), train_set)\n",
    "        x_train = x[:,train_set]\n",
    "        x_test = x[:,test_set]\n",
    "        f_train = func[train_set]\n",
    "        f_test = func[test_set]\n",
    "        \n",
    "        x_train, x_test = torch.tensor(x_train, dtype=torch.float32), torch.tensor(x_test, dtype=torch.float32)\n",
    "        f_train, f_test = torch.tensor(f_train, dtype=torch.float32), torch.tensor(f_test, dtype=torch.float32)\n",
    "    \n",
    "        reg_data_train = TensorDataset(x_train.T, f_train)\n",
    "        reg_data_test = TensorDataset(x_test.T, f_test)\n",
    "        trainloader_reg = torch.utils.data.DataLoader(reg_data_train, batch_size=64, shuffle=True)\n",
    "        testloader_reg = torch.utils.data.DataLoader(reg_data_test, batch_size=64, shuffle=True)\n",
    "    \n",
    "        model_reg = FeedforwardNetwork(input_size=dim,hidden_sizes=[8*dim,4*dim,2*dim],\n",
    "                                   out_layer_sz=1, init_type='none',activation=nn.ReLU())\n",
    "    \n",
    "        out_reg_code = np.zeros([len(x_test.T),3])\n",
    "        #for i, x_i in enumerate(x_test.T):\n",
    "        #    out_reg_code[i,:] = model_reg.compute_rank_at_point(x_i)[:-1]\n",
    "        out_reg = model_reg(x_test.T)\n",
    "        out_reg_code = [torch.sum(out_reg[i]>0,axis=1) for i in range(len(out_reg))]\n",
    "        pretrained_codewords[nr,n] = out_reg_code[-2]\n",
    "    \n",
    "        optimizer_reg = optim.Adam(model_reg.parameters(), lr=0.001)\n",
    "            \n",
    "        num_epochs = 1000\n",
    "        loss_hist = []\n",
    "        for epoch in range(num_epochs):\n",
    "            for inputs, targets in trainloader_reg:\n",
    "                # Forward pass\n",
    "                outputs = model_reg(inputs)[-1]\n",
    "                loss = criterion_reg(outputs, targets.unsqueeze(1))\n",
    "        \n",
    "                # Backward pass and optimization\n",
    "                optimizer_reg.zero_grad()\n",
    "                loss.backward()\n",
    "                optimizer_reg.step()\n",
    "                loss_hist.append(loss.item())\n",
    "        \n",
    "            if (epoch+1) % 500 == 0:\n",
    "                print(f'Epoch [{epoch+1}/{num_epochs}], Loss: {loss.item():.4f}')\n",
    "        \n",
    "        model_reg.eval()\n",
    "        with torch.no_grad():\n",
    "            out_reg_trained = model_reg(x_test.T)\n",
    "        out_reg_code_trained = [torch.sum(out_reg_trained[i]>0,axis=1) for i in range(len(out_reg_trained))]\n",
    "        #out_reg_code_trained = np.zeros([len(x_test.T),3])\n",
    "        #for i, x_i in enumerate(x_test.T):\n",
    "        #    out_reg_code_trained[i,:] = model_reg.compute_rank_at_point(x_i)[:-1]\n",
    "        postrained_codewords[nr,n] = out_reg_code_trained[-2]"
   ]
  },
  {
   "cell_type": "code",
   "execution_count": null,
   "id": "a68ff82c-3d52-47e9-82a2-588bfb61bd73",
   "metadata": {},
   "outputs": [],
   "source": [
    "from scipy.stats import ranksums\n",
    "pval = 0.001/len(pretrained_codewords[0,:,0])\n",
    "significance = np.zeros(len(pretrained_codewords[0,:,0]))\n",
    "for i in range(len(pretrained_codewords[0,:,0])):\n",
    "    significance[i] = ranksums(np.mean(pretrained_codewords,2)[:,i],np.mean(postrained_codewords,2)[:,i])[1]<pval"
   ]
  },
  {
   "cell_type": "code",
   "execution_count": null,
   "id": "5b997f6f-d679-4b9e-a6c6-27d4ebc16b50",
   "metadata": {},
   "outputs": [],
   "source": [
    "mean_code_pre = np.mean(np.mean(pretrained_codewords,2),0)\n",
    "mean_code_post = np.mean(np.mean(postrained_codewords,2),0)\n",
    "\n",
    "std_code_pre = np.std(np.mean(pretrained_codewords,2),0)\n",
    "std_code_post = np.std(np.mean(postrained_codewords,2),0)\n",
    "\n",
    "plt.figure(figsize=(8,2))\n",
    "plt.plot(np.arange(0,n_funcs-1),mean_code_pre,'b-o')\n",
    "plt.fill_between(np.arange(0,n_funcs-1),mean_code_pre-std_code_pre,mean_code_pre+std_code_pre,alpha=0.4,color='blue')\n",
    "plt.plot(np.arange(0,n_funcs-1),mean_code_post,'-o',color='orange')\n",
    "plt.fill_between(np.arange(0,n_funcs-1),mean_code_post-std_code_post,mean_code_post+std_code_post,alpha=0.4,color='orange')\n",
    "plt.plot(np.where(significance)[0],[15,13,24],'k*')\n",
    "plt.xticks([])\n",
    "plt.savefig(\"/Users/kosio/Figures/MfldClassification/rank_smoothness.png\",dpi=500, transparent=True)"
   ]
  },
  {
   "cell_type": "code",
   "execution_count": null,
   "id": "61ff3ef2-d256-476e-87f8-aa7d7ef11417",
   "metadata": {},
   "outputs": [],
   "source": []
  }
 ],
 "metadata": {
  "kernelspec": {
   "display_name": "Python 3 (ipykernel)",
   "language": "python",
   "name": "python3"
  },
  "language_info": {
   "codemirror_mode": {
    "name": "ipython",
    "version": 3
   },
   "file_extension": ".py",
   "mimetype": "text/x-python",
   "name": "python",
   "nbconvert_exporter": "python",
   "pygments_lexer": "ipython3",
   "version": "3.11.7"
  }
 },
 "nbformat": 4,
 "nbformat_minor": 5
}
